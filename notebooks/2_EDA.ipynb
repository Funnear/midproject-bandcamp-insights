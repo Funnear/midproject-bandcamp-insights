{
 "cells": [
  {
   "cell_type": "code",
   "execution_count": 43,
   "metadata": {},
   "outputs": [],
   "source": [
    "# Basic libraries\n",
    "import pandas as pd\n",
    "\n",
    "# Project libraries\n",
    "# set path to local modules and submodules\n",
    "import sys, os\n",
    "sys.path.append(os.path.abspath(\"src\")) # add src folder to path\n",
    "# import local modules and submodules\n",
    "import data_ravers_utils.file_handler as fl\n",
    "import data_ravers_utils.eda_utils as eda\n",
    "\n",
    "# Settings\n",
    "pd.set_option('display.max_columns', None) # display all columns\n",
    "import warnings\n",
    "warnings.filterwarnings('ignore') # ignore warnings\n",
    "\n",
    "\n",
    "# Logging\n",
    "import logging\n",
    "# setup logging level\n",
    "logging.getLogger().setLevel(logging.DEBUG)"
   ]
  },
  {
   "cell_type": "markdown",
   "metadata": {},
   "source": [
    "Bandcamp sales dataset contains 1,000,000 items from Bandcamp's sales feed between 9/9/2020 and 10/2/2020.\n",
    "\n",
    "- _id: unique identifier combining the sale's URL and UTC timestamp.\n",
    "- url: the path to the item on Bandcamp. Use this column to join this dataset to the dataset of Bandcamp items.\n",
    "- artist_name: Name of the artist.\n",
    "- album_title: Title of the album, if applicable.\n",
    "- art_url: path to the item's art image.\n",
    "- item_type: denotes the type of object. a for digital albums, p for physical items, and t for digital tracks.\n",
    "- slug_type: also denotes the type of object. a for all albums, p for merch, and t for tracks.\n",
    "- utc_date: the UTC timestamp of the sale datetime.\n",
    "- country_code: country code of the buyer.\n",
    "- country: full country code name of the buyer.\n",
    "- item_price: price of the item in the seller's currency.\n",
    "- currency: the seller's currency.\n",
    "- amount_paid: amount paid in the seller's currency.\n",
    "- amount_paid_fmt: amount paid in the seller's currency, with the currency symbol.\n",
    "- amount_paid_usd: amount paid converted to US Dollars.\n",
    "- amount_over_fmt: amount voluntarily paid over the item price in the seller's currency."
   ]
  },
  {
   "cell_type": "code",
   "execution_count": 44,
   "metadata": {},
   "outputs": [
    {
     "data": {
      "text/html": [
       "<div>\n",
       "<style scoped>\n",
       "    .dataframe tbody tr th:only-of-type {\n",
       "        vertical-align: middle;\n",
       "    }\n",
       "\n",
       "    .dataframe tbody tr th {\n",
       "        vertical-align: top;\n",
       "    }\n",
       "\n",
       "    .dataframe thead th {\n",
       "        text-align: right;\n",
       "    }\n",
       "</style>\n",
       "<table border=\"1\" class=\"dataframe\">\n",
       "  <thead>\n",
       "    <tr style=\"text-align: right;\">\n",
       "      <th></th>\n",
       "      <th>_id</th>\n",
       "      <th>art_url</th>\n",
       "      <th>item_type</th>\n",
       "      <th>utc_date</th>\n",
       "      <th>country_code</th>\n",
       "      <th>track_album_slug_text</th>\n",
       "      <th>country</th>\n",
       "      <th>slug_type</th>\n",
       "      <th>amount_paid_fmt</th>\n",
       "      <th>item_price</th>\n",
       "      <th>item_description</th>\n",
       "      <th>art_id</th>\n",
       "      <th>url</th>\n",
       "      <th>amount_paid</th>\n",
       "      <th>releases</th>\n",
       "      <th>artist_name</th>\n",
       "      <th>currency</th>\n",
       "      <th>album_title</th>\n",
       "      <th>amount_paid_usd</th>\n",
       "      <th>package_image_id</th>\n",
       "      <th>amount_over_fmt</th>\n",
       "      <th>item_slug</th>\n",
       "      <th>addl_count</th>\n",
       "    </tr>\n",
       "  </thead>\n",
       "  <tbody>\n",
       "    <tr>\n",
       "      <th>0</th>\n",
       "      <td>1599688803.5175&amp;//girlbanddublin.bandcamp.com/...</td>\n",
       "      <td>https://f4.bcbits.com/img/a0206405257_7.jpg</td>\n",
       "      <td>a</td>\n",
       "      <td>1.599689e+09</td>\n",
       "      <td>gb</td>\n",
       "      <td>NaN</td>\n",
       "      <td>United Kingdom</td>\n",
       "      <td>a</td>\n",
       "      <td>$9.99</td>\n",
       "      <td>9.99</td>\n",
       "      <td>Live at Vicar Street</td>\n",
       "      <td>2.064053e+08</td>\n",
       "      <td>//girlbanddublin.bandcamp.com/album/live-at-vi...</td>\n",
       "      <td>9.99</td>\n",
       "      <td>NaN</td>\n",
       "      <td>Girl Band</td>\n",
       "      <td>USD</td>\n",
       "      <td>NaN</td>\n",
       "      <td>9.99</td>\n",
       "      <td>NaN</td>\n",
       "      <td>NaN</td>\n",
       "      <td>NaN</td>\n",
       "      <td>NaN</td>\n",
       "    </tr>\n",
       "    <tr>\n",
       "      <th>1</th>\n",
       "      <td>1599688805.27838&amp;//maharettarecords.bandcamp.c...</td>\n",
       "      <td>https://f4.bcbits.com/img/a2984241552_7.jpg</td>\n",
       "      <td>a</td>\n",
       "      <td>1.599689e+09</td>\n",
       "      <td>fi</td>\n",
       "      <td>NaN</td>\n",
       "      <td>Finland</td>\n",
       "      <td>a</td>\n",
       "      <td>£1</td>\n",
       "      <td>1.00</td>\n",
       "      <td>Neurogen</td>\n",
       "      <td>2.984242e+09</td>\n",
       "      <td>//maharettarecords.bandcamp.com/album/neurogen</td>\n",
       "      <td>1.00</td>\n",
       "      <td>NaN</td>\n",
       "      <td>Jirah</td>\n",
       "      <td>GBP</td>\n",
       "      <td>NaN</td>\n",
       "      <td>1.30</td>\n",
       "      <td>NaN</td>\n",
       "      <td>NaN</td>\n",
       "      <td>NaN</td>\n",
       "      <td>NaN</td>\n",
       "    </tr>\n",
       "    <tr>\n",
       "      <th>2</th>\n",
       "      <td>1599688805.90646&amp;//maharettarecords.bandcamp.c...</td>\n",
       "      <td>https://f4.bcbits.com/img/a3320494770_7.jpg</td>\n",
       "      <td>a</td>\n",
       "      <td>1.599689e+09</td>\n",
       "      <td>fi</td>\n",
       "      <td>NaN</td>\n",
       "      <td>Finland</td>\n",
       "      <td>a</td>\n",
       "      <td>£3</td>\n",
       "      <td>3.00</td>\n",
       "      <td>The Last Snare Bender</td>\n",
       "      <td>3.320495e+09</td>\n",
       "      <td>//maharettarecords.bandcamp.com/album/the-last...</td>\n",
       "      <td>3.00</td>\n",
       "      <td>NaN</td>\n",
       "      <td>D-Ther</td>\n",
       "      <td>GBP</td>\n",
       "      <td>NaN</td>\n",
       "      <td>3.90</td>\n",
       "      <td>NaN</td>\n",
       "      <td>NaN</td>\n",
       "      <td>NaN</td>\n",
       "      <td>NaN</td>\n",
       "    </tr>\n",
       "    <tr>\n",
       "      <th>3</th>\n",
       "      <td>1599688806.94234&amp;//alicesitski.bandcamp.com/al...</td>\n",
       "      <td>https://f4.bcbits.com/img/0020476345_37.jpg</td>\n",
       "      <td>p</td>\n",
       "      <td>1.599689e+09</td>\n",
       "      <td>gb</td>\n",
       "      <td>NaN</td>\n",
       "      <td>United Kingdom</td>\n",
       "      <td>a</td>\n",
       "      <td>€10.50</td>\n",
       "      <td>10.50</td>\n",
       "      <td>Limited Edition Compact Disc</td>\n",
       "      <td>NaN</td>\n",
       "      <td>//alicesitski.bandcamp.com/album/white-noise-tv</td>\n",
       "      <td>10.50</td>\n",
       "      <td>NaN</td>\n",
       "      <td>WHITE NOISE TV</td>\n",
       "      <td>EUR</td>\n",
       "      <td>WHITE NOISE TV</td>\n",
       "      <td>12.39</td>\n",
       "      <td>20476345.0</td>\n",
       "      <td>NaN</td>\n",
       "      <td>NaN</td>\n",
       "      <td>NaN</td>\n",
       "    </tr>\n",
       "    <tr>\n",
       "      <th>4</th>\n",
       "      <td>1599688809.07942&amp;//linguaignota.bandcamp.com/t...</td>\n",
       "      <td>https://f4.bcbits.com/img/a3428873396_7.jpg</td>\n",
       "      <td>t</td>\n",
       "      <td>1.599689e+09</td>\n",
       "      <td>us</td>\n",
       "      <td>NaN</td>\n",
       "      <td>United States</td>\n",
       "      <td>t</td>\n",
       "      <td>$1</td>\n",
       "      <td>1.00</td>\n",
       "      <td>O Ruthless Great Divine Director</td>\n",
       "      <td>3.428873e+09</td>\n",
       "      <td>//linguaignota.bandcamp.com/track/o-ruthless-g...</td>\n",
       "      <td>1.00</td>\n",
       "      <td>NaN</td>\n",
       "      <td>LINGUA IGNOTA</td>\n",
       "      <td>USD</td>\n",
       "      <td>NaN</td>\n",
       "      <td>1.00</td>\n",
       "      <td>NaN</td>\n",
       "      <td>NaN</td>\n",
       "      <td>NaN</td>\n",
       "      <td>NaN</td>\n",
       "    </tr>\n",
       "  </tbody>\n",
       "</table>\n",
       "</div>"
      ],
      "text/plain": [
       "                                                 _id  \\\n",
       "0  1599688803.5175&//girlbanddublin.bandcamp.com/...   \n",
       "1  1599688805.27838&//maharettarecords.bandcamp.c...   \n",
       "2  1599688805.90646&//maharettarecords.bandcamp.c...   \n",
       "3  1599688806.94234&//alicesitski.bandcamp.com/al...   \n",
       "4  1599688809.07942&//linguaignota.bandcamp.com/t...   \n",
       "\n",
       "                                       art_url item_type      utc_date  \\\n",
       "0  https://f4.bcbits.com/img/a0206405257_7.jpg         a  1.599689e+09   \n",
       "1  https://f4.bcbits.com/img/a2984241552_7.jpg         a  1.599689e+09   \n",
       "2  https://f4.bcbits.com/img/a3320494770_7.jpg         a  1.599689e+09   \n",
       "3  https://f4.bcbits.com/img/0020476345_37.jpg         p  1.599689e+09   \n",
       "4  https://f4.bcbits.com/img/a3428873396_7.jpg         t  1.599689e+09   \n",
       "\n",
       "  country_code track_album_slug_text         country slug_type  \\\n",
       "0           gb                   NaN  United Kingdom         a   \n",
       "1           fi                   NaN         Finland         a   \n",
       "2           fi                   NaN         Finland         a   \n",
       "3           gb                   NaN  United Kingdom         a   \n",
       "4           us                   NaN   United States         t   \n",
       "\n",
       "  amount_paid_fmt  item_price                  item_description        art_id  \\\n",
       "0           $9.99        9.99              Live at Vicar Street  2.064053e+08   \n",
       "1              £1        1.00                          Neurogen  2.984242e+09   \n",
       "2              £3        3.00             The Last Snare Bender  3.320495e+09   \n",
       "3          €10.50       10.50      Limited Edition Compact Disc           NaN   \n",
       "4              $1        1.00  O Ruthless Great Divine Director  3.428873e+09   \n",
       "\n",
       "                                                 url  amount_paid  releases  \\\n",
       "0  //girlbanddublin.bandcamp.com/album/live-at-vi...         9.99       NaN   \n",
       "1     //maharettarecords.bandcamp.com/album/neurogen         1.00       NaN   \n",
       "2  //maharettarecords.bandcamp.com/album/the-last...         3.00       NaN   \n",
       "3    //alicesitski.bandcamp.com/album/white-noise-tv        10.50       NaN   \n",
       "4  //linguaignota.bandcamp.com/track/o-ruthless-g...         1.00       NaN   \n",
       "\n",
       "      artist_name currency     album_title  amount_paid_usd  package_image_id  \\\n",
       "0       Girl Band      USD             NaN             9.99               NaN   \n",
       "1           Jirah      GBP             NaN             1.30               NaN   \n",
       "2          D-Ther      GBP             NaN             3.90               NaN   \n",
       "3  WHITE NOISE TV      EUR  WHITE NOISE TV            12.39        20476345.0   \n",
       "4   LINGUA IGNOTA      USD             NaN             1.00               NaN   \n",
       "\n",
       "  amount_over_fmt item_slug  addl_count  \n",
       "0             NaN       NaN         NaN  \n",
       "1             NaN       NaN         NaN  \n",
       "2             NaN       NaN         NaN  \n",
       "3             NaN       NaN         NaN  \n",
       "4             NaN       NaN         NaN  "
      ]
     },
     "execution_count": 44,
     "metadata": {},
     "output_type": "execute_result"
    }
   ],
   "source": [
    "df_filename = 'bandcamp-sales'\n",
    "data = fl.read_df_pickle('bandcamp-sales')\n",
    "df = data.copy()\n",
    "df.head(5)"
   ]
  },
  {
   "cell_type": "code",
   "execution_count": 45,
   "metadata": {},
   "outputs": [
    {
     "name": "stderr",
     "output_type": "stream",
     "text": [
      "INFO:root:Number of rows before cleanup: 1000000\n",
      "INFO:root:Dataset has no empty spaces.\n",
      "INFO:root:Dataset has no duplicates.\n",
      "INFO:root:Number of rows after cleanup: 1000000\n"
     ]
    }
   ],
   "source": [
    "eda.auto_cleanup(df)"
   ]
  },
  {
   "cell_type": "code",
   "execution_count": 46,
   "metadata": {},
   "outputs": [
    {
     "name": "stdout",
     "output_type": "stream",
     "text": [
      "                        is_na   not_na  na_percent na_percent_pretty\n",
      "track_album_slug_text  997763     2237     99.7763            99.78%\n",
      "releases               988416    11584     98.8416            98.84%\n",
      "item_slug              978258    21742     97.8258            97.83%\n",
      "addl_count             978258    21742     97.8258            97.83%\n",
      "amount_over_fmt        880867   119133     88.0867            88.09%\n",
      "package_image_id       767292   232708     76.7292            76.73%\n",
      "album_title            643539   356461     64.3539            64.35%\n",
      "art_id                 235480   764520     23.5480            23.55%\n",
      "slug_type               11584   988416      1.1584             1.16%\n",
      "item_description           23   999977      0.0023             0.00%\n",
      "artist_name                10   999990      0.0010             0.00%\n",
      "_id                         0  1000000      0.0000             0.00%\n",
      "art_url                     0  1000000      0.0000             0.00%\n",
      "item_type                   0  1000000      0.0000             0.00%\n",
      "utc_date                    0  1000000      0.0000             0.00%\n",
      "country_code                0  1000000      0.0000             0.00%\n",
      "country                     0  1000000      0.0000             0.00%\n",
      "amount_paid_fmt             0  1000000      0.0000             0.00%\n",
      "item_price                  0  1000000      0.0000             0.00%\n",
      "url                         0  1000000      0.0000             0.00%\n",
      "amount_paid                 0  1000000      0.0000             0.00%\n",
      "currency                    0  1000000      0.0000             0.00%\n",
      "amount_paid_usd             0  1000000      0.0000             0.00%\n"
     ]
    }
   ],
   "source": [
    "df_nulls = eda.count_nulls(df)\n",
    "print(df_nulls)"
   ]
  },
  {
   "cell_type": "markdown",
   "metadata": {},
   "source": [
    "## Preserving target data\n",
    "\n",
    "- `amount_paid_usd` column contains the total cost of purchase in unified format - converted from original currency to USD for compatibility. \n",
    "  - This is the target variable for understanding sales trends.\n",
    "  - This data is derived from columns:\n",
    "    - `amount_paid_fmt`, `amount_paid`, `item_price`, `currency`, `amount_over_fmt`\n",
    "    - Data relation formula in pseudocode:\n",
    "    - ```amount_paid_usd = (item_price + amount_over_fmt = amount_paid) convert from currency to USD```\n",
    "    - This assumption must be verified before any of the columns will be dropped.\n",
    "\n",
    "- `amount_over_fmt` column contains information about voluntarily paid over the item price in the seller's currency. It is important for the project objective of exploring fan generosity.\n",
    "  - this data is stored in seller's currency and needs to be unified by converting into dollars. For this `currency` column is necessary. \n",
    "  - 88.09% of the column is missing data. That are cases where buyers did not pay extra on top of `item_price`. Must be filled with 0.\n"
   ]
  },
  {
   "cell_type": "markdown",
   "metadata": {},
   "source": [
    "## Analysing data types and unique values to reduce data junk"
   ]
  },
  {
   "cell_type": "code",
   "execution_count": 47,
   "metadata": {},
   "outputs": [],
   "source": [
    "from IPython.utils.capture import capture_output\n",
    "\n",
    "# this code will be captured in memory and not displayed\n",
    "with capture_output() as output:\n",
    "    eda.print_eda_report(df)"
   ]
  },
  {
   "cell_type": "code",
   "execution_count": 48,
   "metadata": {},
   "outputs": [
    {
     "name": "stdout",
     "output_type": "stream",
     "text": [
      "================= Dataset =================\n",
      "Dataset has shape (1000000, 23)\n",
      "\n",
      "Dataset has numerical data in columns: ['utc_date', 'item_price', 'art_id', 'amount_paid', 'releases', 'amount_paid_usd', 'package_image_id', 'addl_count']\n",
      "- Column \"utc_date\" has 999990 unique values.\n",
      "- Column \"art_id\" has 271430 unique values.\n",
      "- Column \"package_image_id\" has 63940 unique values.\n",
      "- Column \"amount_paid_usd\" has 5866 unique values.\n",
      "- Column \"amount_paid\" has 3315 unique values.\n",
      "- Column \"item_price\" has 2878 unique values.\n",
      "- Column \"releases\" has 220 unique values.\n",
      "- Column \"addl_count\" has 17 unique values.\n",
      "  -- Unique values are:\n",
      " [nan  1.  2.  3.  9.  8.  5.  4.  7. 12.  6. 19. 11. 14. 10. 22. 13. 15.]\n",
      "\n",
      "Dataset has categorical data in columns: ['_id', 'art_url', 'item_type', 'country_code', 'track_album_slug_text', 'country', 'slug_type', 'amount_paid_fmt', 'item_description', 'url', 'artist_name', 'currency', 'album_title', 'amount_over_fmt', 'item_slug']\n",
      "- Column \"_id\" has 1000000 unique values.\n",
      "- Column \"art_url\" has 335212 unique values.\n",
      "- Column \"item_type\" has 4 unique values.\n",
      "  -- Unique values are:\n",
      " ['a' 'p' 't' 'b']\n",
      "- Column \"country_code\" has 186 unique values.\n",
      "- Column \"track_album_slug_text\" has 792 unique values.\n",
      "- Column \"country\" has 186 unique values.\n",
      "- Column \"slug_type\" has 3 unique values.\n",
      "  -- Unique values are:\n",
      " ['a' 't' 'p' nan]\n",
      "- Column \"amount_paid_fmt\" has 7127 unique values.\n",
      "- Column \"item_description\" has 336985 unique values.\n",
      "- Column \"url\" has 374473 unique values.\n",
      "- Column \"artist_name\" has 159746 unique values.\n",
      "- Column \"currency\" has 18 unique values.\n",
      "  -- Unique values are:\n",
      " ['USD' 'GBP' 'EUR' 'AUD' 'JPY' 'SEK' 'CAD' 'CZK' 'NZD' 'DKK' 'CHF' 'ILS'\n",
      " 'HUF' 'PLN' 'NOK' 'MXN' 'HKD' 'SGD']\n",
      "- Column \"album_title\" has 103697 unique values.\n",
      "- Column \"amount_over_fmt\" has 3084 unique values.\n",
      "- Column \"item_slug\" has 156 unique values.\n",
      "\n",
      "\n",
      "Output has been saved to file:\n",
      "/Users/bubblegum_doubledrops/Library/Mobile Documents/com~apple~CloudDocs/0prio - Important heavy backups/IronHack/big_projects/midproject-bandcamp-insights/docs/auto_eda_raw_report.md\n"
     ]
    }
   ],
   "source": [
    "print(output.stdout)\n",
    "\n",
    "report_path = f'{fl.PROJECT_ROOT}/docs/auto_eda_raw_report.md'\n",
    "\n",
    "with open(report_path, \"w\") as f:\n",
    "    f.write(output.stdout)\n",
    "\n",
    "print(f\"Output has been saved to file:\\n{report_path}\")"
   ]
  },
  {
   "cell_type": "markdown",
   "metadata": {},
   "source": [
    "#### Identifying columns that are not important for sure in the context of this project\n"
   ]
  },
  {
   "cell_type": "code",
   "execution_count": 49,
   "metadata": {},
   "outputs": [],
   "source": [
    "columns_to_drop = []"
   ]
  },
  {
   "cell_type": "markdown",
   "metadata": {},
   "source": [
    "What to do with `track_album_slug_text`, `item_slug`?!"
   ]
  },
  {
   "cell_type": "code",
   "execution_count": 50,
   "metadata": {},
   "outputs": [
    {
     "data": {
      "text/plain": [
       "array([nan, '/album/', '/album/prabhupadas-dissp-2015-3-vishakha-brhmch',\n",
       "       '/album/friends-from-childhood', '/album/will-he-save-us'],\n",
       "      dtype=object)"
      ]
     },
     "execution_count": 50,
     "metadata": {},
     "output_type": "execute_result"
    }
   ],
   "source": [
    "# 5 examples of unique values for 'item_slug'\n",
    "eda.unique_values_list(df, 'item_slug')[:5]"
   ]
  },
  {
   "cell_type": "code",
   "execution_count": 51,
   "metadata": {},
   "outputs": [
    {
     "data": {
      "text/plain": [
       "array(['/album/failure-to-return',\n",
       "       '/album/fuck-you-diggy-1-d-x-nem-x-lil-woofy-woof-x-dj-killa-c-x-g-lo-key-x-mr-sisco-prod-nem',\n",
       "       '/album/individuum-ii', '/album/hand-covering-sun-extended-mix',\n",
       "       '/album/airbuccaneers-2'], dtype=object)"
      ]
     },
     "execution_count": 51,
     "metadata": {},
     "output_type": "execute_result"
    }
   ],
   "source": [
    "# items are sorted alphabetically, show the end of the list\n",
    "eda.unique_values_list(df, 'item_slug')[-5:][::-1]"
   ]
  },
  {
   "cell_type": "code",
   "execution_count": 52,
   "metadata": {},
   "outputs": [
    {
     "data": {
      "text/plain": [
       "array([nan, 'pachuco', 'dale-roberts',\n",
       "       'prabhupadas-dissp-2015-3-vishakha-brhmch', '--348'], dtype=object)"
      ]
     },
     "execution_count": 52,
     "metadata": {},
     "output_type": "execute_result"
    }
   ],
   "source": [
    "# 5 examples of unique values for 'track_album_slug_text'\n",
    "eda.unique_values_list(df, 'track_album_slug_text')[:5]"
   ]
  },
  {
   "cell_type": "code",
   "execution_count": 53,
   "metadata": {},
   "outputs": [
    {
     "data": {
      "text/plain": [
       "array(['fetus-tacos-2', '04-allmiladies-3', 'party-plannin-intro',\n",
       "       'aquawave', 'failure-to-return'], dtype=object)"
      ]
     },
     "execution_count": 53,
     "metadata": {},
     "output_type": "execute_result"
    }
   ],
   "source": [
    "# items are sorted alphabetically, show the end of the list\n",
    "eda.unique_values_list(df, 'track_album_slug_text')[-5:][::-1]"
   ]
  },
  {
   "cell_type": "code",
   "execution_count": 54,
   "metadata": {},
   "outputs": [],
   "source": [
    "columns_to_drop += ['item_slug', 'track_album_slug_text']"
   ]
  },
  {
   "cell_type": "markdown",
   "metadata": {},
   "source": [
    "There is no description of `addl_count` column, there are 97.83% null values. Therefore this column should be dropped."
   ]
  },
  {
   "cell_type": "code",
   "execution_count": 55,
   "metadata": {},
   "outputs": [
    {
     "data": {
      "text/plain": [
       "array([nan,  1.,  2.,  3.,  9.,  8.,  5.,  4.,  7., 12.,  6., 19., 11.,\n",
       "       14., 10., 22., 13., 15.])"
      ]
     },
     "execution_count": 55,
     "metadata": {},
     "output_type": "execute_result"
    }
   ],
   "source": [
    "eda.unique_values_list(df, 'addl_count')"
   ]
  },
  {
   "cell_type": "code",
   "execution_count": 56,
   "metadata": {},
   "outputs": [],
   "source": [
    "columns_to_drop.append('addl_count')"
   ]
  },
  {
   "cell_type": "markdown",
   "metadata": {},
   "source": [
    "Columns related to artworks should be dropped for the scope of this project as retrieving and interpreting the relevant information is costly."
   ]
  },
  {
   "cell_type": "code",
   "execution_count": 57,
   "metadata": {},
   "outputs": [],
   "source": [
    "columns_to_drop += ['package_image_id', 'art_url']"
   ]
  },
  {
   "cell_type": "markdown",
   "metadata": {},
   "source": [
    "### Dropping unusful columns"
   ]
  },
  {
   "cell_type": "code",
   "execution_count": 58,
   "metadata": {},
   "outputs": [],
   "source": [
    "df.drop(columns=columns_to_drop, inplace=True)"
   ]
  },
  {
   "cell_type": "markdown",
   "metadata": {},
   "source": [
    "## Treating target related columns"
   ]
  },
  {
   "cell_type": "markdown",
   "metadata": {},
   "source": [
    "## Treating absence of data"
   ]
  },
  {
   "cell_type": "markdown",
   "metadata": {},
   "source": [
    "## Backup dataframe"
   ]
  },
  {
   "cell_type": "code",
   "execution_count": 59,
   "metadata": {},
   "outputs": [
    {
     "name": "stderr",
     "output_type": "stream",
     "text": [
      "INFO:root:Backup file is created: /Users/bubblegum_doubledrops/Library/Mobile Documents/com~apple~CloudDocs/0prio - Important heavy backups/IronHack/big_projects/midproject-bandcamp-insights/data/bandcamp-sales.pkl\n"
     ]
    }
   ],
   "source": [
    "fl.save_df_pickle(df, df_filename)"
   ]
  }
 ],
 "metadata": {
  "kernelspec": {
   "display_name": "Python 64 (venv)",
   "language": "python",
   "name": "venv"
  },
  "language_info": {
   "codemirror_mode": {
    "name": "ipython",
    "version": 3
   },
   "file_extension": ".py",
   "mimetype": "text/x-python",
   "name": "python",
   "nbconvert_exporter": "python",
   "pygments_lexer": "ipython3",
   "version": "3.13.2"
  }
 },
 "nbformat": 4,
 "nbformat_minor": 2
}
