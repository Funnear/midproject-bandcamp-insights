{
 "cells": [
  {
   "cell_type": "code",
   "execution_count": 39,
   "metadata": {},
   "outputs": [],
   "source": [
    "# Basic libraries\n",
    "import pandas as pd\n",
    "import numpy as np\n",
    "import re\n",
    "\n",
    "# Project libraries\n",
    "# set path to local modules and submodules\n",
    "import sys, os\n",
    "sys.path.append(os.path.abspath(\"src\")) # add src folder to path\n",
    "# import local modules and submodules\n",
    "import data_ravers_utils.file_handler as fl\n",
    "import data_ravers_utils.eda_utils as eda\n",
    "\n",
    "# Settings\n",
    "pd.set_option('display.max_columns', None) # display all columns\n",
    "import warnings\n",
    "warnings.filterwarnings('ignore') # ignore warnings\n",
    "\n",
    "\n",
    "# Logging\n",
    "import logging\n",
    "# setup logging level\n",
    "logging.getLogger().setLevel(logging.DEBUG)"
   ]
  },
  {
   "cell_type": "markdown",
   "metadata": {},
   "source": [
    "Bandcamp sales dataset contains 1,000,000 items from Bandcamp's sales feed between 9/9/2020 and 10/2/2020.\n",
    "\n",
    "- _id: unique identifier combining the sale's URL and UTC timestamp.\n",
    "- url: the path to the item on Bandcamp. Use this column to join this dataset to the dataset of Bandcamp items.\n",
    "- artist_name: Name of the artist.\n",
    "- album_title: Title of the album, if applicable.\n",
    "- art_url: path to the item's art image.\n",
    "- item_type: denotes the type of object. a for digital albums, p for physical items, and t for digital tracks.\n",
    "- slug_type: also denotes the type of object. a for all albums, p for merch, and t for tracks.\n",
    "- utc_date: the UTC timestamp of the sale datetime.\n",
    "- country_code: country code of the buyer.\n",
    "- country: full country code name of the buyer.\n",
    "- item_price: price of the item in the seller's currency.\n",
    "- currency: the seller's currency.\n",
    "- amount_paid: amount paid in the seller's currency.\n",
    "- amount_paid_fmt: amount paid in the seller's currency, with the currency symbol.\n",
    "- amount_paid_usd: amount paid converted to US Dollars.\n",
    "- amount_over_fmt: amount voluntarily paid over the item price in the seller's currency."
   ]
  },
  {
   "cell_type": "code",
   "execution_count": 40,
   "metadata": {},
   "outputs": [
    {
     "data": {
      "text/html": [
       "<div>\n",
       "<style scoped>\n",
       "    .dataframe tbody tr th:only-of-type {\n",
       "        vertical-align: middle;\n",
       "    }\n",
       "\n",
       "    .dataframe tbody tr th {\n",
       "        vertical-align: top;\n",
       "    }\n",
       "\n",
       "    .dataframe thead th {\n",
       "        text-align: right;\n",
       "    }\n",
       "</style>\n",
       "<table border=\"1\" class=\"dataframe\">\n",
       "  <thead>\n",
       "    <tr style=\"text-align: right;\">\n",
       "      <th></th>\n",
       "      <th>_id</th>\n",
       "      <th>art_url</th>\n",
       "      <th>item_type</th>\n",
       "      <th>utc_date</th>\n",
       "      <th>country_code</th>\n",
       "      <th>track_album_slug_text</th>\n",
       "      <th>country</th>\n",
       "      <th>slug_type</th>\n",
       "      <th>amount_paid_fmt</th>\n",
       "      <th>item_price</th>\n",
       "      <th>item_description</th>\n",
       "      <th>art_id</th>\n",
       "      <th>url</th>\n",
       "      <th>amount_paid</th>\n",
       "      <th>releases</th>\n",
       "      <th>artist_name</th>\n",
       "      <th>currency</th>\n",
       "      <th>album_title</th>\n",
       "      <th>amount_paid_usd</th>\n",
       "      <th>package_image_id</th>\n",
       "      <th>amount_over_fmt</th>\n",
       "      <th>item_slug</th>\n",
       "      <th>addl_count</th>\n",
       "    </tr>\n",
       "  </thead>\n",
       "  <tbody>\n",
       "    <tr>\n",
       "      <th>0</th>\n",
       "      <td>1599688803.5175&amp;//girlbanddublin.bandcamp.com/...</td>\n",
       "      <td>https://f4.bcbits.com/img/a0206405257_7.jpg</td>\n",
       "      <td>a</td>\n",
       "      <td>1.599689e+09</td>\n",
       "      <td>gb</td>\n",
       "      <td>NaN</td>\n",
       "      <td>United Kingdom</td>\n",
       "      <td>a</td>\n",
       "      <td>$9.99</td>\n",
       "      <td>9.99</td>\n",
       "      <td>Live at Vicar Street</td>\n",
       "      <td>2.064053e+08</td>\n",
       "      <td>//girlbanddublin.bandcamp.com/album/live-at-vi...</td>\n",
       "      <td>9.99</td>\n",
       "      <td>NaN</td>\n",
       "      <td>Girl Band</td>\n",
       "      <td>USD</td>\n",
       "      <td>NaN</td>\n",
       "      <td>9.99</td>\n",
       "      <td>NaN</td>\n",
       "      <td>NaN</td>\n",
       "      <td>NaN</td>\n",
       "      <td>NaN</td>\n",
       "    </tr>\n",
       "    <tr>\n",
       "      <th>1</th>\n",
       "      <td>1599688805.27838&amp;//maharettarecords.bandcamp.c...</td>\n",
       "      <td>https://f4.bcbits.com/img/a2984241552_7.jpg</td>\n",
       "      <td>a</td>\n",
       "      <td>1.599689e+09</td>\n",
       "      <td>fi</td>\n",
       "      <td>NaN</td>\n",
       "      <td>Finland</td>\n",
       "      <td>a</td>\n",
       "      <td>£1</td>\n",
       "      <td>1.00</td>\n",
       "      <td>Neurogen</td>\n",
       "      <td>2.984242e+09</td>\n",
       "      <td>//maharettarecords.bandcamp.com/album/neurogen</td>\n",
       "      <td>1.00</td>\n",
       "      <td>NaN</td>\n",
       "      <td>Jirah</td>\n",
       "      <td>GBP</td>\n",
       "      <td>NaN</td>\n",
       "      <td>1.30</td>\n",
       "      <td>NaN</td>\n",
       "      <td>NaN</td>\n",
       "      <td>NaN</td>\n",
       "      <td>NaN</td>\n",
       "    </tr>\n",
       "    <tr>\n",
       "      <th>2</th>\n",
       "      <td>1599688805.90646&amp;//maharettarecords.bandcamp.c...</td>\n",
       "      <td>https://f4.bcbits.com/img/a3320494770_7.jpg</td>\n",
       "      <td>a</td>\n",
       "      <td>1.599689e+09</td>\n",
       "      <td>fi</td>\n",
       "      <td>NaN</td>\n",
       "      <td>Finland</td>\n",
       "      <td>a</td>\n",
       "      <td>£3</td>\n",
       "      <td>3.00</td>\n",
       "      <td>The Last Snare Bender</td>\n",
       "      <td>3.320495e+09</td>\n",
       "      <td>//maharettarecords.bandcamp.com/album/the-last...</td>\n",
       "      <td>3.00</td>\n",
       "      <td>NaN</td>\n",
       "      <td>D-Ther</td>\n",
       "      <td>GBP</td>\n",
       "      <td>NaN</td>\n",
       "      <td>3.90</td>\n",
       "      <td>NaN</td>\n",
       "      <td>NaN</td>\n",
       "      <td>NaN</td>\n",
       "      <td>NaN</td>\n",
       "    </tr>\n",
       "    <tr>\n",
       "      <th>3</th>\n",
       "      <td>1599688806.94234&amp;//alicesitski.bandcamp.com/al...</td>\n",
       "      <td>https://f4.bcbits.com/img/0020476345_37.jpg</td>\n",
       "      <td>p</td>\n",
       "      <td>1.599689e+09</td>\n",
       "      <td>gb</td>\n",
       "      <td>NaN</td>\n",
       "      <td>United Kingdom</td>\n",
       "      <td>a</td>\n",
       "      <td>€10.50</td>\n",
       "      <td>10.50</td>\n",
       "      <td>Limited Edition Compact Disc</td>\n",
       "      <td>NaN</td>\n",
       "      <td>//alicesitski.bandcamp.com/album/white-noise-tv</td>\n",
       "      <td>10.50</td>\n",
       "      <td>NaN</td>\n",
       "      <td>WHITE NOISE TV</td>\n",
       "      <td>EUR</td>\n",
       "      <td>WHITE NOISE TV</td>\n",
       "      <td>12.39</td>\n",
       "      <td>20476345.0</td>\n",
       "      <td>NaN</td>\n",
       "      <td>NaN</td>\n",
       "      <td>NaN</td>\n",
       "    </tr>\n",
       "    <tr>\n",
       "      <th>4</th>\n",
       "      <td>1599688809.07942&amp;//linguaignota.bandcamp.com/t...</td>\n",
       "      <td>https://f4.bcbits.com/img/a3428873396_7.jpg</td>\n",
       "      <td>t</td>\n",
       "      <td>1.599689e+09</td>\n",
       "      <td>us</td>\n",
       "      <td>NaN</td>\n",
       "      <td>United States</td>\n",
       "      <td>t</td>\n",
       "      <td>$1</td>\n",
       "      <td>1.00</td>\n",
       "      <td>O Ruthless Great Divine Director</td>\n",
       "      <td>3.428873e+09</td>\n",
       "      <td>//linguaignota.bandcamp.com/track/o-ruthless-g...</td>\n",
       "      <td>1.00</td>\n",
       "      <td>NaN</td>\n",
       "      <td>LINGUA IGNOTA</td>\n",
       "      <td>USD</td>\n",
       "      <td>NaN</td>\n",
       "      <td>1.00</td>\n",
       "      <td>NaN</td>\n",
       "      <td>NaN</td>\n",
       "      <td>NaN</td>\n",
       "      <td>NaN</td>\n",
       "    </tr>\n",
       "  </tbody>\n",
       "</table>\n",
       "</div>"
      ],
      "text/plain": [
       "                                                 _id  \\\n",
       "0  1599688803.5175&//girlbanddublin.bandcamp.com/...   \n",
       "1  1599688805.27838&//maharettarecords.bandcamp.c...   \n",
       "2  1599688805.90646&//maharettarecords.bandcamp.c...   \n",
       "3  1599688806.94234&//alicesitski.bandcamp.com/al...   \n",
       "4  1599688809.07942&//linguaignota.bandcamp.com/t...   \n",
       "\n",
       "                                       art_url item_type      utc_date  \\\n",
       "0  https://f4.bcbits.com/img/a0206405257_7.jpg         a  1.599689e+09   \n",
       "1  https://f4.bcbits.com/img/a2984241552_7.jpg         a  1.599689e+09   \n",
       "2  https://f4.bcbits.com/img/a3320494770_7.jpg         a  1.599689e+09   \n",
       "3  https://f4.bcbits.com/img/0020476345_37.jpg         p  1.599689e+09   \n",
       "4  https://f4.bcbits.com/img/a3428873396_7.jpg         t  1.599689e+09   \n",
       "\n",
       "  country_code track_album_slug_text         country slug_type  \\\n",
       "0           gb                   NaN  United Kingdom         a   \n",
       "1           fi                   NaN         Finland         a   \n",
       "2           fi                   NaN         Finland         a   \n",
       "3           gb                   NaN  United Kingdom         a   \n",
       "4           us                   NaN   United States         t   \n",
       "\n",
       "  amount_paid_fmt  item_price                  item_description        art_id  \\\n",
       "0           $9.99        9.99              Live at Vicar Street  2.064053e+08   \n",
       "1              £1        1.00                          Neurogen  2.984242e+09   \n",
       "2              £3        3.00             The Last Snare Bender  3.320495e+09   \n",
       "3          €10.50       10.50      Limited Edition Compact Disc           NaN   \n",
       "4              $1        1.00  O Ruthless Great Divine Director  3.428873e+09   \n",
       "\n",
       "                                                 url  amount_paid  releases  \\\n",
       "0  //girlbanddublin.bandcamp.com/album/live-at-vi...         9.99       NaN   \n",
       "1     //maharettarecords.bandcamp.com/album/neurogen         1.00       NaN   \n",
       "2  //maharettarecords.bandcamp.com/album/the-last...         3.00       NaN   \n",
       "3    //alicesitski.bandcamp.com/album/white-noise-tv        10.50       NaN   \n",
       "4  //linguaignota.bandcamp.com/track/o-ruthless-g...         1.00       NaN   \n",
       "\n",
       "      artist_name currency     album_title  amount_paid_usd  package_image_id  \\\n",
       "0       Girl Band      USD             NaN             9.99               NaN   \n",
       "1           Jirah      GBP             NaN             1.30               NaN   \n",
       "2          D-Ther      GBP             NaN             3.90               NaN   \n",
       "3  WHITE NOISE TV      EUR  WHITE NOISE TV            12.39        20476345.0   \n",
       "4   LINGUA IGNOTA      USD             NaN             1.00               NaN   \n",
       "\n",
       "  amount_over_fmt item_slug  addl_count  \n",
       "0             NaN       NaN         NaN  \n",
       "1             NaN       NaN         NaN  \n",
       "2             NaN       NaN         NaN  \n",
       "3             NaN       NaN         NaN  \n",
       "4             NaN       NaN         NaN  "
      ]
     },
     "execution_count": 40,
     "metadata": {},
     "output_type": "execute_result"
    }
   ],
   "source": [
    "df_filename = 'bandcamp-sales-v0-raw'\n",
    "data = fl.read_df_pickle(df_filename)\n",
    "df = data.copy()\n",
    "df.head(5)"
   ]
  },
  {
   "cell_type": "code",
   "execution_count": 41,
   "metadata": {},
   "outputs": [
    {
     "name": "stderr",
     "output_type": "stream",
     "text": [
      "INFO:root:Number of rows before cleanup: 1000000\n",
      "INFO:root:Dataset has no empty spaces.\n",
      "INFO:root:Dataset has no duplicates.\n",
      "INFO:root:Number of rows after cleanup: 1000000\n"
     ]
    }
   ],
   "source": [
    "eda.auto_cleanup(df)"
   ]
  },
  {
   "cell_type": "code",
   "execution_count": 42,
   "metadata": {},
   "outputs": [
    {
     "name": "stdout",
     "output_type": "stream",
     "text": [
      "                        is_na   not_na  na_percent na_percent_pretty\n",
      "track_album_slug_text  997763     2237     99.7763            99.78%\n",
      "releases               988416    11584     98.8416            98.84%\n",
      "item_slug              978258    21742     97.8258            97.83%\n",
      "addl_count             978258    21742     97.8258            97.83%\n",
      "amount_over_fmt        880867   119133     88.0867            88.09%\n",
      "package_image_id       767292   232708     76.7292            76.73%\n",
      "album_title            643539   356461     64.3539            64.35%\n",
      "art_id                 235480   764520     23.5480            23.55%\n",
      "slug_type               11584   988416      1.1584             1.16%\n",
      "item_description           23   999977      0.0023             0.00%\n",
      "artist_name                10   999990      0.0010             0.00%\n",
      "_id                         0  1000000      0.0000             0.00%\n",
      "art_url                     0  1000000      0.0000             0.00%\n",
      "item_type                   0  1000000      0.0000             0.00%\n",
      "utc_date                    0  1000000      0.0000             0.00%\n",
      "country_code                0  1000000      0.0000             0.00%\n",
      "country                     0  1000000      0.0000             0.00%\n",
      "amount_paid_fmt             0  1000000      0.0000             0.00%\n",
      "item_price                  0  1000000      0.0000             0.00%\n",
      "url                         0  1000000      0.0000             0.00%\n",
      "amount_paid                 0  1000000      0.0000             0.00%\n",
      "currency                    0  1000000      0.0000             0.00%\n",
      "amount_paid_usd             0  1000000      0.0000             0.00%\n"
     ]
    }
   ],
   "source": [
    "df_nulls = eda.count_nulls(df)\n",
    "print(df_nulls)"
   ]
  },
  {
   "cell_type": "markdown",
   "metadata": {},
   "source": [
    "## Preserving target data\n",
    "\n",
    "- `amount_paid_usd` column contains the total cost of purchase in unified format - converted from original currency to USD for compatibility.\n",
    "- `amount_over_fmt` column contains information about voluntarily paid over the item price in the seller's currency. It is important for the project objective of exploring fan generosity.\n"
   ]
  },
  {
   "cell_type": "markdown",
   "metadata": {},
   "source": [
    "## Analysing data types and unique values to reduce data junk"
   ]
  },
  {
   "cell_type": "code",
   "execution_count": 43,
   "metadata": {},
   "outputs": [],
   "source": [
    "from IPython.utils.capture import capture_output\n",
    "\n",
    "# this code will be captured in memory and not displayed\n",
    "with capture_output() as output:\n",
    "    eda.print_eda_report(df)"
   ]
  },
  {
   "cell_type": "code",
   "execution_count": 44,
   "metadata": {},
   "outputs": [
    {
     "name": "stdout",
     "output_type": "stream",
     "text": [
      "================= Dataset =================\n",
      "Dataset has shape (1000000, 23)\n",
      "\n",
      "Dataset has numerical data in columns: ['utc_date', 'item_price', 'art_id', 'amount_paid', 'releases', 'amount_paid_usd', 'package_image_id', 'addl_count']\n",
      "- Column \"utc_date\" has 999990 unique values.\n",
      "- Column \"art_id\" has 271430 unique values.\n",
      "- Column \"package_image_id\" has 63940 unique values.\n",
      "- Column \"amount_paid_usd\" has 5866 unique values.\n",
      "- Column \"amount_paid\" has 3315 unique values.\n",
      "- Column \"item_price\" has 2878 unique values.\n",
      "- Column \"releases\" has 220 unique values.\n",
      "- Column \"addl_count\" has 17 unique values.\n",
      "  -- Unique values are:\n",
      " [nan  1.  2.  3.  9.  8.  5.  4.  7. 12.  6. 19. 11. 14. 10. 22. 13. 15.]\n",
      "\n",
      "Dataset has categorical data in columns: ['_id', 'art_url', 'item_type', 'country_code', 'track_album_slug_text', 'country', 'slug_type', 'amount_paid_fmt', 'item_description', 'url', 'artist_name', 'currency', 'album_title', 'amount_over_fmt', 'item_slug']\n",
      "- Column \"_id\" has 1000000 unique values.\n",
      "- Column \"art_url\" has 335212 unique values.\n",
      "- Column \"item_type\" has 4 unique values.\n",
      "  -- Unique values are:\n",
      " ['a' 'p' 't' 'b']\n",
      "- Column \"country_code\" has 186 unique values.\n",
      "- Column \"track_album_slug_text\" has 792 unique values.\n",
      "- Column \"country\" has 186 unique values.\n",
      "- Column \"slug_type\" has 3 unique values.\n",
      "  -- Unique values are:\n",
      " ['a' 't' 'p' nan]\n",
      "- Column \"amount_paid_fmt\" has 7127 unique values.\n",
      "- Column \"item_description\" has 336985 unique values.\n",
      "- Column \"url\" has 374473 unique values.\n",
      "- Column \"artist_name\" has 159746 unique values.\n",
      "- Column \"currency\" has 18 unique values.\n",
      "  -- Unique values are:\n",
      " ['USD' 'GBP' 'EUR' 'AUD' 'JPY' 'SEK' 'CAD' 'CZK' 'NZD' 'DKK' 'CHF' 'ILS'\n",
      " 'HUF' 'PLN' 'NOK' 'MXN' 'HKD' 'SGD']\n",
      "- Column \"album_title\" has 103697 unique values.\n",
      "- Column \"amount_over_fmt\" has 3084 unique values.\n",
      "- Column \"item_slug\" has 156 unique values.\n",
      "\n",
      "\n",
      "Output has been saved to file:\n",
      "/Users/bubblegum_doubledrops/Library/Mobile Documents/com~apple~CloudDocs/0prio - Important heavy backups/IronHack/big_projects/midproject-bandcamp-insights/docs/auto_eda_raw_report.md\n"
     ]
    }
   ],
   "source": [
    "print(output.stdout)\n",
    "\n",
    "report_path = f'{fl.PROJECT_ROOT}/docs/auto_eda_raw_report.md'\n",
    "\n",
    "with open(report_path, \"w\") as f:\n",
    "    f.write(output.stdout)\n",
    "\n",
    "print(f\"Output has been saved to file:\\n{report_path}\")"
   ]
  },
  {
   "cell_type": "markdown",
   "metadata": {},
   "source": [
    "## Identifying columns that are not important for sure in the context of this project\n"
   ]
  },
  {
   "cell_type": "markdown",
   "metadata": {},
   "source": [
    "### What to do with `_id` and `utc_date`?\n",
    "- `_id`: unique identifier combining the sale's URL and UTC timestamp.\n",
    "  - Column \"_id\" has 1000000 unique values.\n",
    "- `utc_date`: the UTC timestamp of the sale datetime.\n",
    "  - Column \"utc_date\" has 999990 unique values.\n",
    "  - Tere are no null values\n",
    "\n",
    "Plan:\n",
    "- Fill null values in `utc_date` with parsed timestamps from `_id`.\n",
    "- Drop `_id` column.\n",
    "- Split `utc_date` into columns that can be used for Inferencial Statistics and ML.\n",
    "- Drop `utc_date` column.\n"
   ]
  },
  {
   "cell_type": "code",
   "execution_count": 45,
   "metadata": {},
   "outputs": [
    {
     "data": {
      "text/plain": [
       "np.int64(0)"
      ]
     },
     "execution_count": 45,
     "metadata": {},
     "output_type": "execute_result"
    }
   ],
   "source": [
    "df[\"utc_date\"].isnull().sum()"
   ]
  },
  {
   "cell_type": "code",
   "execution_count": 46,
   "metadata": {},
   "outputs": [],
   "source": [
    "# Drop _id column\n",
    "df = df.drop(columns=[\"_id\"])"
   ]
  },
  {
   "cell_type": "code",
   "execution_count": 47,
   "metadata": {},
   "outputs": [],
   "source": [
    "# Convert timestamps to datetime objects:\n",
    "df[\"utc_date\"] = pd.to_datetime(df[\"utc_date\"], unit=\"s\")"
   ]
  },
  {
   "cell_type": "code",
   "execution_count": 48,
   "metadata": {},
   "outputs": [],
   "source": [
    "#  Extract useful features (don’t use raw timestamps!):\n",
    "df[\"hour\"] = df[\"utc_date\"].dt.hour\n",
    "df[\"dayofweek\"] = df[\"utc_date\"].dt.dayofweek\n",
    "df[\"month\"] = df[\"utc_date\"].dt.month  # January=1, December=12\n",
    "df[\"year\"] = df[\"utc_date\"].dt.year\n",
    "df[\"weekday\"] = df[\"utc_date\"].dt.weekday  # Monday=0, Sunday=6\n",
    "df[\"weekend\"] = df[\"utc_date\"].dt.weekday >= 5\n"
   ]
  },
  {
   "cell_type": "markdown",
   "metadata": {},
   "source": [
    "Cyclical encoding helps machine learning models understand time patterns that wrap around — like:\n",
    "- hour: 23 → 0 is not a jump of 23 hours — they’re adjacent\n",
    "- weekday: Monday and Sunday are next to each other in the weekly cycle\n",
    "- month: December → January"
   ]
  },
  {
   "cell_type": "code",
   "execution_count": 49,
   "metadata": {},
   "outputs": [
    {
     "data": {
      "text/html": [
       "<div>\n",
       "<style scoped>\n",
       "    .dataframe tbody tr th:only-of-type {\n",
       "        vertical-align: middle;\n",
       "    }\n",
       "\n",
       "    .dataframe tbody tr th {\n",
       "        vertical-align: top;\n",
       "    }\n",
       "\n",
       "    .dataframe thead th {\n",
       "        text-align: right;\n",
       "    }\n",
       "</style>\n",
       "<table border=\"1\" class=\"dataframe\">\n",
       "  <thead>\n",
       "    <tr style=\"text-align: right;\">\n",
       "      <th></th>\n",
       "      <th>hour_sin</th>\n",
       "      <th>hour_cos</th>\n",
       "      <th>weekday_sin</th>\n",
       "      <th>weekday_cos</th>\n",
       "      <th>month_sin</th>\n",
       "      <th>month_cos</th>\n",
       "    </tr>\n",
       "  </thead>\n",
       "  <tbody>\n",
       "    <tr>\n",
       "      <th>0</th>\n",
       "      <td>-0.5</td>\n",
       "      <td>0.866025</td>\n",
       "      <td>0.974928</td>\n",
       "      <td>-0.222521</td>\n",
       "      <td>-1.0</td>\n",
       "      <td>-1.836970e-16</td>\n",
       "    </tr>\n",
       "    <tr>\n",
       "      <th>1</th>\n",
       "      <td>-0.5</td>\n",
       "      <td>0.866025</td>\n",
       "      <td>0.974928</td>\n",
       "      <td>-0.222521</td>\n",
       "      <td>-1.0</td>\n",
       "      <td>-1.836970e-16</td>\n",
       "    </tr>\n",
       "    <tr>\n",
       "      <th>2</th>\n",
       "      <td>-0.5</td>\n",
       "      <td>0.866025</td>\n",
       "      <td>0.974928</td>\n",
       "      <td>-0.222521</td>\n",
       "      <td>-1.0</td>\n",
       "      <td>-1.836970e-16</td>\n",
       "    </tr>\n",
       "    <tr>\n",
       "      <th>3</th>\n",
       "      <td>-0.5</td>\n",
       "      <td>0.866025</td>\n",
       "      <td>0.974928</td>\n",
       "      <td>-0.222521</td>\n",
       "      <td>-1.0</td>\n",
       "      <td>-1.836970e-16</td>\n",
       "    </tr>\n",
       "    <tr>\n",
       "      <th>4</th>\n",
       "      <td>-0.5</td>\n",
       "      <td>0.866025</td>\n",
       "      <td>0.974928</td>\n",
       "      <td>-0.222521</td>\n",
       "      <td>-1.0</td>\n",
       "      <td>-1.836970e-16</td>\n",
       "    </tr>\n",
       "  </tbody>\n",
       "</table>\n",
       "</div>"
      ],
      "text/plain": [
       "   hour_sin  hour_cos  weekday_sin  weekday_cos  month_sin     month_cos\n",
       "0      -0.5  0.866025     0.974928    -0.222521       -1.0 -1.836970e-16\n",
       "1      -0.5  0.866025     0.974928    -0.222521       -1.0 -1.836970e-16\n",
       "2      -0.5  0.866025     0.974928    -0.222521       -1.0 -1.836970e-16\n",
       "3      -0.5  0.866025     0.974928    -0.222521       -1.0 -1.836970e-16\n",
       "4      -0.5  0.866025     0.974928    -0.222521       -1.0 -1.836970e-16"
      ]
     },
     "execution_count": 49,
     "metadata": {},
     "output_type": "execute_result"
    }
   ],
   "source": [
    "# Create cyclical features for hour, weekday, month (sine/cosine transform)\n",
    "\n",
    "# Hour of day (24-hour cycle)\n",
    "df[\"hour_sin\"] = np.sin(2 * np.pi * df[\"hour\"] / 24)\n",
    "df[\"hour_cos\"] = np.cos(2 * np.pi * df[\"hour\"] / 24)\n",
    "\n",
    "# Day of week (7-day cycle)\n",
    "df[\"weekday_sin\"] = np.sin(2 * np.pi * df[\"weekday\"] / 7)\n",
    "df[\"weekday_cos\"] = np.cos(2 * np.pi * df[\"weekday\"] / 7)\n",
    "\n",
    "# Month of year (12-month cycle)\n",
    "df[\"month_sin\"] = np.sin(2 * np.pi * df[\"month\"] / 12)\n",
    "df[\"month_cos\"] = np.cos(2 * np.pi * df[\"month\"] / 12)\n",
    "\n",
    "columns_to_show = [\"hour_sin\", \"hour_cos\", \"weekday_sin\", \"weekday_cos\", \"month_sin\", \"month_cos\"]\n",
    "df[columns_to_show].head()"
   ]
  },
  {
   "cell_type": "code",
   "execution_count": 50,
   "metadata": {},
   "outputs": [],
   "source": [
    "# Drop original columns in future\n",
    "# df.drop(columns=[\"hour\", \"weekday\", \"month\"], inplace=True)\n",
    "\n",
    "# Drop utc_date column\n",
    "df = df.drop(columns=[\"utc_date\"])\n"
   ]
  },
  {
   "cell_type": "code",
   "execution_count": 51,
   "metadata": {},
   "outputs": [],
   "source": [
    "# for later use\n",
    "columns_datetime = [\"hour\", \"dayofweek\", \"month\", \"year\", \"weekday\", \"weekend\"]\n",
    "columns_datetime += [\"hour_sin\", \"hour_cos\", \"weekday_sin\", \"weekday_cos\", \"month_sin\", \"month_cos\"]"
   ]
  },
  {
   "cell_type": "markdown",
   "metadata": {},
   "source": [
    "### What to do with `track_album_slug_text`, `item_slug`?!"
   ]
  },
  {
   "cell_type": "code",
   "execution_count": 52,
   "metadata": {},
   "outputs": [
    {
     "data": {
      "text/plain": [
       "array([nan, '/album/', '/album/prabhupadas-dissp-2015-3-vishakha-brhmch',\n",
       "       '/album/friends-from-childhood', '/album/will-he-save-us'],\n",
       "      dtype=object)"
      ]
     },
     "execution_count": 52,
     "metadata": {},
     "output_type": "execute_result"
    }
   ],
   "source": [
    "# 5 examples of unique values for 'item_slug'\n",
    "eda.unique_values_list(df, 'item_slug')[:5]"
   ]
  },
  {
   "cell_type": "code",
   "execution_count": 53,
   "metadata": {},
   "outputs": [
    {
     "data": {
      "text/plain": [
       "array(['/album/failure-to-return',\n",
       "       '/album/fuck-you-diggy-1-d-x-nem-x-lil-woofy-woof-x-dj-killa-c-x-g-lo-key-x-mr-sisco-prod-nem',\n",
       "       '/album/individuum-ii', '/album/hand-covering-sun-extended-mix',\n",
       "       '/album/airbuccaneers-2'], dtype=object)"
      ]
     },
     "execution_count": 53,
     "metadata": {},
     "output_type": "execute_result"
    }
   ],
   "source": [
    "# items are sorted alphabetically, show the end of the list\n",
    "eda.unique_values_list(df, 'item_slug')[-5:][::-1]"
   ]
  },
  {
   "cell_type": "code",
   "execution_count": 54,
   "metadata": {},
   "outputs": [
    {
     "data": {
      "text/plain": [
       "array([nan, 'pachuco', 'dale-roberts',\n",
       "       'prabhupadas-dissp-2015-3-vishakha-brhmch', '--348'], dtype=object)"
      ]
     },
     "execution_count": 54,
     "metadata": {},
     "output_type": "execute_result"
    }
   ],
   "source": [
    "# 5 examples of unique values for 'track_album_slug_text'\n",
    "eda.unique_values_list(df, 'track_album_slug_text')[:5]"
   ]
  },
  {
   "cell_type": "code",
   "execution_count": 55,
   "metadata": {},
   "outputs": [
    {
     "data": {
      "text/plain": [
       "array(['fetus-tacos-2', '04-allmiladies-3', 'party-plannin-intro',\n",
       "       'aquawave', 'failure-to-return'], dtype=object)"
      ]
     },
     "execution_count": 55,
     "metadata": {},
     "output_type": "execute_result"
    }
   ],
   "source": [
    "# items are sorted alphabetically, show the end of the list\n",
    "eda.unique_values_list(df, 'track_album_slug_text')[-5:][::-1]"
   ]
  },
  {
   "cell_type": "code",
   "execution_count": 56,
   "metadata": {},
   "outputs": [],
   "source": [
    "columns_to_drop = []\n",
    "columns_to_drop += ['item_slug', 'track_album_slug_text']"
   ]
  },
  {
   "cell_type": "markdown",
   "metadata": {},
   "source": [
    "There is no description of `addl_count` column, there are 97.83% null values. Therefore this column should be dropped."
   ]
  },
  {
   "cell_type": "code",
   "execution_count": 57,
   "metadata": {},
   "outputs": [
    {
     "data": {
      "text/plain": [
       "array([nan,  1.,  2.,  3.,  9.,  8.,  5.,  4.,  7., 12.,  6., 19., 11.,\n",
       "       14., 10., 22., 13., 15.])"
      ]
     },
     "execution_count": 57,
     "metadata": {},
     "output_type": "execute_result"
    }
   ],
   "source": [
    "eda.unique_values_list(df, 'addl_count')"
   ]
  },
  {
   "cell_type": "code",
   "execution_count": 58,
   "metadata": {},
   "outputs": [],
   "source": [
    "columns_to_drop.append('addl_count')"
   ]
  },
  {
   "cell_type": "markdown",
   "metadata": {},
   "source": [
    "Columns related to artworks should be dropped for the scope of this project as retrieving and interpreting the relevant information is costly."
   ]
  },
  {
   "cell_type": "code",
   "execution_count": null,
   "metadata": {},
   "outputs": [],
   "source": [
    "columns_to_drop += ['package_image_id', 'art_url', 'url']"
   ]
  },
  {
   "cell_type": "markdown",
   "metadata": {},
   "source": [
    "### Dropping unusful columns"
   ]
  },
  {
   "cell_type": "code",
   "execution_count": 60,
   "metadata": {},
   "outputs": [],
   "source": [
    "df.drop(columns=columns_to_drop, inplace=True)"
   ]
  },
  {
   "cell_type": "markdown",
   "metadata": {},
   "source": [
    "## Treating target related columns\n",
    "\n",
    "This could be done earlier, but by doing transformations on the reduced data set productivity will be higher."
   ]
  },
  {
   "cell_type": "markdown",
   "metadata": {},
   "source": [
    "- `amount_paid_usd` column contains the total cost of purchase in unified format - converted from original currency to USD for compatibility. \n",
    "  - This is the target variable for understanding sales trends.\n",
    "  - This data is derived from columns:\n",
    "    - `amount_paid_fmt`, `amount_paid`, `item_price`, `currency`, `amount_over_fmt`\n",
    "    - Data relation formula in pseudocode:\n",
    "    - ```amount_paid_usd = (item_price + amount_over_fmt = amount_paid) convert from currency to USD```\n",
    "    - This assumption must be verified before any of the columns will be dropped.\n",
    "\n",
    "- `amount_over_fmt` column contains information about voluntarily paid over the item price in the seller's currency. It is important for the project objective of exploring fan generosity.\n",
    "  - this is stored as categorical data, not numeric\n",
    "  - this data is stored in seller's currency and needs to be unified by converting into dollars. For this `currency` column is necessary. \n",
    "  - 88.09% of the column is missing data. That are cases where buyers did not pay extra on top of `item_price`. Must be filled with 0.\n"
   ]
  },
  {
   "cell_type": "markdown",
   "metadata": {},
   "source": [
    "#### Convert `amount_over_fmt` from categorical to numerical"
   ]
  },
  {
   "cell_type": "code",
   "execution_count": 61,
   "metadata": {},
   "outputs": [
    {
     "data": {
      "text/plain": [
       "amount_over_fmt\n",
       "<class 'float'>    880867\n",
       "<class 'str'>      119133\n",
       "Name: count, dtype: int64"
      ]
     },
     "execution_count": 61,
     "metadata": {},
     "output_type": "execute_result"
    }
   ],
   "source": [
    "df[\"amount_over_fmt\"].apply(type).value_counts()"
   ]
  },
  {
   "cell_type": "code",
   "execution_count": 62,
   "metadata": {},
   "outputs": [
    {
     "data": {
      "text/plain": [
       "13      €2\n",
       "18      $6\n",
       "27      $5\n",
       "28     £10\n",
       "37    $197\n",
       "Name: amount_over_fmt, dtype: object"
      ]
     },
     "execution_count": 62,
     "metadata": {},
     "output_type": "execute_result"
    }
   ],
   "source": [
    "df[df[\"amount_over_fmt\"].apply(lambda x: isinstance(x, str))][\"amount_over_fmt\"].head(5)"
   ]
  },
  {
   "cell_type": "code",
   "execution_count": 63,
   "metadata": {},
   "outputs": [],
   "source": [
    "# Remove currency symbols from string entries and convert to float\n",
    "def clean_amount_over(x):\n",
    "    if isinstance(x, str):\n",
    "        # Remove any common currency symbol using regex\n",
    "        cleaned = re.sub(r\"[^\\d.,]\", \"\", x)\n",
    "        try:\n",
    "            return float(cleaned)\n",
    "        except ValueError:\n",
    "            return np.nan\n",
    "    return x  # already float or NaN\n",
    "\n",
    "df[\"amount_over_fmt\"] = df[\"amount_over_fmt\"].apply(clean_amount_over)\n",
    "\n",
    "# Ensure NaNs are set where values were missing or invalid\n",
    "df[\"amount_over_fmt\"] = df[\"amount_over_fmt\"].replace(\"\", np.nan)"
   ]
  },
  {
   "cell_type": "code",
   "execution_count": 64,
   "metadata": {},
   "outputs": [],
   "source": [
    "# Fill NaNs with 0 where no extra payment was made\n",
    "df[\"amount_over_fmt\"] = df[\"amount_over_fmt\"].fillna(0.0)"
   ]
  },
  {
   "cell_type": "code",
   "execution_count": 65,
   "metadata": {},
   "outputs": [
    {
     "name": "stdout",
     "output_type": "stream",
     "text": [
      "All values sould be float now: float64\n",
      "\n",
      "No null values are expected: 0\n",
      "\n",
      "Treated as numeric and sow automatical stats\n",
      ": count    1000000.000000\n",
      "mean           1.415943\n",
      "std           17.658453\n",
      "min            0.000000\n",
      "25%            0.000000\n",
      "50%            0.000000\n",
      "75%            0.000000\n",
      "max          999.200000\n",
      "Name: amount_over_fmt, dtype: float64\n",
      "\n"
     ]
    }
   ],
   "source": [
    "# Veerify that the columns is cleaned now\n",
    "print(f\"All values sould be float now: {df[\"amount_over_fmt\"].dtype}\\n\")\n",
    "print(f\"No null values are expected: {df[\"amount_over_fmt\"].isnull().sum()}\\n\")\n",
    "print(f\"Treated as numeric and sow automatical stats\\n: {df[\"amount_over_fmt\"].describe()}\\n\")\n",
    "# The stats are useless now because all values are in different currencies"
   ]
  },
  {
   "cell_type": "markdown",
   "metadata": {},
   "source": [
    "#### Convert currencies\n",
    "- For perfect precision, currency convertion rate should be used accordign to the timestamp.\n",
    "- Precision is not so important as unification of data for machine learning. \n",
    "- As we have `amount_paid_usd` already and \"currency\" for reference  we can deduce convertion rate from it."
   ]
  },
  {
   "cell_type": "code",
   "execution_count": 66,
   "metadata": {},
   "outputs": [
    {
     "name": "stdout",
     "output_type": "stream",
     "text": [
      "USD mismatches: 0 / 455569\n"
     ]
    }
   ],
   "source": [
    "# Verify that amount_paid_usd ≈ amount_paid when currency is USD\n",
    "usd_rows = df[\"currency\"] == \"USD\"\n",
    "usd_diff = (df.loc[usd_rows, \"amount_paid_usd\"] - df.loc[usd_rows, \"amount_paid\"]).abs()\n",
    "\n",
    "print(\"USD mismatches:\", (usd_diff > 0.01).sum(), \"/\", usd_rows.sum())"
   ]
  },
  {
   "cell_type": "code",
   "execution_count": 67,
   "metadata": {},
   "outputs": [
    {
     "data": {
      "text/html": [
       "<div>\n",
       "<style scoped>\n",
       "    .dataframe tbody tr th:only-of-type {\n",
       "        vertical-align: middle;\n",
       "    }\n",
       "\n",
       "    .dataframe tbody tr th {\n",
       "        vertical-align: top;\n",
       "    }\n",
       "\n",
       "    .dataframe thead th {\n",
       "        text-align: right;\n",
       "    }\n",
       "</style>\n",
       "<table border=\"1\" class=\"dataframe\">\n",
       "  <thead>\n",
       "    <tr style=\"text-align: right;\">\n",
       "      <th></th>\n",
       "      <th>currency</th>\n",
       "      <th>amount_paid</th>\n",
       "      <th>amount_paid_usd</th>\n",
       "      <th>conversion_rate</th>\n",
       "    </tr>\n",
       "  </thead>\n",
       "  <tbody>\n",
       "    <tr>\n",
       "      <th>144293</th>\n",
       "      <td>GBP</td>\n",
       "      <td>1.5</td>\n",
       "      <td>1.92</td>\n",
       "      <td>1.280</td>\n",
       "    </tr>\n",
       "    <tr>\n",
       "      <th>98646</th>\n",
       "      <td>USD</td>\n",
       "      <td>10.0</td>\n",
       "      <td>10.00</td>\n",
       "      <td>1.000</td>\n",
       "    </tr>\n",
       "    <tr>\n",
       "      <th>208918</th>\n",
       "      <td>USD</td>\n",
       "      <td>7.0</td>\n",
       "      <td>7.00</td>\n",
       "      <td>1.000</td>\n",
       "    </tr>\n",
       "    <tr>\n",
       "      <th>381612</th>\n",
       "      <td>USD</td>\n",
       "      <td>1.0</td>\n",
       "      <td>1.00</td>\n",
       "      <td>1.000</td>\n",
       "    </tr>\n",
       "    <tr>\n",
       "      <th>461747</th>\n",
       "      <td>EUR</td>\n",
       "      <td>15.0</td>\n",
       "      <td>17.76</td>\n",
       "      <td>1.184</td>\n",
       "    </tr>\n",
       "  </tbody>\n",
       "</table>\n",
       "</div>"
      ],
      "text/plain": [
       "       currency  amount_paid  amount_paid_usd  conversion_rate\n",
       "144293      GBP          1.5             1.92            1.280\n",
       "98646       USD         10.0            10.00            1.000\n",
       "208918      USD          7.0             7.00            1.000\n",
       "381612      USD          1.0             1.00            1.000\n",
       "461747      EUR         15.0            17.76            1.184"
      ]
     },
     "execution_count": 67,
     "metadata": {},
     "output_type": "execute_result"
    }
   ],
   "source": [
    "# Calculate conversion rate\n",
    "df[\"conversion_rate\"] = df[\"amount_paid_usd\"] / df[\"amount_paid\"]\n",
    "\n",
    "# Fill NaNs or infs (from 0 amounts) with 1.0 only for USD, else leave NaN\n",
    "df.loc[df[\"currency\"] == \"USD\", \"conversion_rate\"] = 1.0\n",
    "\n",
    "df[[\"currency\", \"amount_paid\", \"amount_paid_usd\", \"conversion_rate\"]].sample(5)"
   ]
  },
  {
   "cell_type": "code",
   "execution_count": 68,
   "metadata": {},
   "outputs": [
    {
     "data": {
      "text/plain": [
       "count    1000000.000000\n",
       "mean           0.874630\n",
       "std            6.984831\n",
       "min            0.000000\n",
       "25%            0.000000\n",
       "50%            0.000000\n",
       "75%            0.000000\n",
       "max         1276.953795\n",
       "Name: amount_over_usd, dtype: float64"
      ]
     },
     "execution_count": 68,
     "metadata": {},
     "output_type": "execute_result"
    }
   ],
   "source": [
    "# Convert fan donations to USD\n",
    "df[\"amount_over_usd\"] = df[\"amount_over_fmt\"] * df[\"conversion_rate\"]\n",
    "\n",
    "df[\"amount_over_usd\"].describe()"
   ]
  },
  {
   "cell_type": "code",
   "execution_count": 69,
   "metadata": {},
   "outputs": [
    {
     "data": {
      "text/plain": [
       "count    1000000.000000\n",
       "mean           7.951427\n",
       "std           10.511279\n",
       "min            0.000000\n",
       "25%            1.288000\n",
       "50%            5.070000\n",
       "75%           10.000000\n",
       "max         1000.000000\n",
       "Name: item_price_usd, dtype: float64"
      ]
     },
     "execution_count": 69,
     "metadata": {},
     "output_type": "execute_result"
    }
   ],
   "source": [
    "# Convert item original price to USD\n",
    "df[\"item_price_usd\"] = df[\"item_price\"] * df[\"conversion_rate\"]\n",
    "\n",
    "df[\"item_price_usd\"].describe()"
   ]
  },
  {
   "cell_type": "code",
   "execution_count": 70,
   "metadata": {},
   "outputs": [
    {
     "data": {
      "text/plain": [
       "amount_paid        0\n",
       "amount_paid_usd    0\n",
       "item_price         0\n",
       "item_price_usd     0\n",
       "amount_over_fmt    0\n",
       "amount_over_usd    0\n",
       "currency           0\n",
       "conversion_rate    0\n",
       "dtype: int64"
      ]
     },
     "execution_count": 70,
     "metadata": {},
     "output_type": "execute_result"
    }
   ],
   "source": [
    "# double-check tere are no missing values\n",
    "columns_money = [\"amount_paid\", \"amount_paid_usd\", \"item_price\", \"item_price_usd\", \"amount_over_fmt\", \"amount_over_usd\", \"currency\", \"conversion_rate\"]\n",
    "df[columns_money].isnull().sum()"
   ]
  },
  {
   "cell_type": "code",
   "execution_count": 71,
   "metadata": {},
   "outputs": [
    {
     "name": "stdout",
     "output_type": "stream",
     "text": [
      "Matching rows: 861860 / 1000000\n"
     ]
    }
   ],
   "source": [
    "# Verify that amount_paid_usd = item_price_usd + amount_over_usd\n",
    "df[\"paid_usd_diff\"] = (df[\"amount_paid_usd\"] - (df[\"item_price_usd\"] + df[\"amount_over_usd\"])).abs()\n",
    "\n",
    "# Check how many rows match within a small tolerance\n",
    "tolerance = 0.05  # Allowable rounding error\n",
    "matching_rows_usd = df[\"paid_usd_diff\"] < tolerance\n",
    "\n",
    "print(f\"Matching rows: {matching_rows_usd.sum()} / {len(df)}\")\n"
   ]
  },
  {
   "cell_type": "code",
   "execution_count": 72,
   "metadata": {},
   "outputs": [],
   "source": [
    "# # drop unnecessary columns\n",
    "# columns_money_drop = [\"amount_over_fmt\", \"amount_paid\", \"item_price\", \"currency\", \"conversion_rate\"]\n",
    "# df.drop(columns=columns_money_drop, inplace=True)\n",
    "# columns_money = [col for col in columns_money if col not in columns_money_drop]\n",
    "# print(f\"Columns left: {columns_money}\")"
   ]
  },
  {
   "cell_type": "markdown",
   "metadata": {},
   "source": [
    "#### Verify that amount_paid = item_price + amount_over_fmt"
   ]
  },
  {
   "cell_type": "code",
   "execution_count": 73,
   "metadata": {},
   "outputs": [
    {
     "name": "stdout",
     "output_type": "stream",
     "text": [
      "Matching rows: 861860 / 1000000\n"
     ]
    }
   ],
   "source": [
    "# verify that amount_paid = item_price + amount_over_fmt\n",
    "\n",
    "df[\"recomputed_paid\"] = df[\"item_price_usd\"] + df[\"amount_over_usd\"]\n",
    "df[\"paid_diff\"] = (df[\"amount_paid_usd\"] - df[\"recomputed_paid\"]).abs()\n",
    "\n",
    "# Check how many are matching within a tolerance\n",
    "matching_rows = df[\"paid_diff\"] < 0.05 # small rounding error allowed\n",
    "print(\"Matching rows:\", matching_rows.sum(), \"/\", len(df))"
   ]
  },
  {
   "cell_type": "code",
   "execution_count": 90,
   "metadata": {},
   "outputs": [],
   "source": [
    "columns_money.append(\"recomputed_paid\")\n",
    "columns_money.append(\"paid_diff\")"
   ]
  },
  {
   "cell_type": "markdown",
   "metadata": {},
   "source": [
    "#### Study mismatch cases where amount_paid > item_price + amount_over_fmt"
   ]
  },
  {
   "cell_type": "code",
   "execution_count": 80,
   "metadata": {},
   "outputs": [
    {
     "name": "stdout",
     "output_type": "stream",
     "text": [
      "Mismatch rows: 138140\n"
     ]
    }
   ],
   "source": [
    "#  Isolate the mismatches\n",
    "mismatch_df = df[df[\"paid_diff\"] >= 0.05].copy()\n",
    "print(\"Mismatch rows:\", len(mismatch_df))"
   ]
  },
  {
   "cell_type": "code",
   "execution_count": 75,
   "metadata": {},
   "outputs": [
    {
     "data": {
      "text/plain": [
       "count    138140.000000\n",
       "mean          1.316660\n",
       "std           5.066392\n",
       "min           0.050000\n",
       "25%           0.730000\n",
       "50%           1.000000\n",
       "75%           1.273568\n",
       "max        1000.000000\n",
       "Name: paid_diff, dtype: float64"
      ]
     },
     "execution_count": 75,
     "metadata": {},
     "output_type": "execute_result"
    }
   ],
   "source": [
    "# Look at statistical summary of the differences\n",
    "mismatch_df[\"paid_diff\"].describe()"
   ]
  },
  {
   "cell_type": "code",
   "execution_count": 79,
   "metadata": {},
   "outputs": [
    {
     "data": {
      "text/plain": [
       "currency\n",
       "USD    75449\n",
       "EUR    30411\n",
       "GBP    19503\n",
       "CAD     3708\n",
       "AUD     3402\n",
       "JPY     2532\n",
       "SEK      729\n",
       "CHF      517\n",
       "NZD      387\n",
       "DKK      331\n",
       "Name: count, dtype: int64"
      ]
     },
     "execution_count": 79,
     "metadata": {},
     "output_type": "execute_result"
    }
   ],
   "source": [
    "# Check which currencies dominate mismatches\n",
    "mismatch_df[\"currency\"].value_counts().head(10)"
   ]
  },
  {
   "cell_type": "code",
   "execution_count": 81,
   "metadata": {},
   "outputs": [
    {
     "data": {
      "text/html": [
       "<div>\n",
       "<style scoped>\n",
       "    .dataframe tbody tr th:only-of-type {\n",
       "        vertical-align: middle;\n",
       "    }\n",
       "\n",
       "    .dataframe tbody tr th {\n",
       "        vertical-align: top;\n",
       "    }\n",
       "\n",
       "    .dataframe thead th {\n",
       "        text-align: right;\n",
       "    }\n",
       "</style>\n",
       "<table border=\"1\" class=\"dataframe\">\n",
       "  <thead>\n",
       "    <tr style=\"text-align: right;\">\n",
       "      <th></th>\n",
       "      <th>amount_paid</th>\n",
       "      <th>item_price_usd</th>\n",
       "      <th>amount_over_usd</th>\n",
       "      <th>amount_paid_usd</th>\n",
       "    </tr>\n",
       "  </thead>\n",
       "  <tbody>\n",
       "    <tr>\n",
       "      <th>84</th>\n",
       "      <td>0.75</td>\n",
       "      <td>0.0</td>\n",
       "      <td>0.0</td>\n",
       "      <td>0.97</td>\n",
       "    </tr>\n",
       "    <tr>\n",
       "      <th>104</th>\n",
       "      <td>1.00</td>\n",
       "      <td>0.0</td>\n",
       "      <td>0.0</td>\n",
       "      <td>0.73</td>\n",
       "    </tr>\n",
       "    <tr>\n",
       "      <th>138</th>\n",
       "      <td>0.50</td>\n",
       "      <td>0.0</td>\n",
       "      <td>0.0</td>\n",
       "      <td>0.65</td>\n",
       "    </tr>\n",
       "    <tr>\n",
       "      <th>145</th>\n",
       "      <td>0.50</td>\n",
       "      <td>0.0</td>\n",
       "      <td>0.0</td>\n",
       "      <td>0.59</td>\n",
       "    </tr>\n",
       "    <tr>\n",
       "      <th>147</th>\n",
       "      <td>0.50</td>\n",
       "      <td>0.0</td>\n",
       "      <td>0.0</td>\n",
       "      <td>0.59</td>\n",
       "    </tr>\n",
       "  </tbody>\n",
       "</table>\n",
       "</div>"
      ],
      "text/plain": [
       "     amount_paid  item_price_usd  amount_over_usd  amount_paid_usd\n",
       "84          0.75             0.0              0.0             0.97\n",
       "104         1.00             0.0              0.0             0.73\n",
       "138         0.50             0.0              0.0             0.65\n",
       "145         0.50             0.0              0.0             0.59\n",
       "147         0.50             0.0              0.0             0.59"
      ]
     },
     "execution_count": 81,
     "metadata": {},
     "output_type": "execute_result"
    }
   ],
   "source": [
    "#  Look at mismatches where amount_paid_usd is very small or zero\n",
    "mismatch_df[mismatch_df[\"amount_paid_usd\"] < 1.0][[\"amount_paid\", \"item_price_usd\", \"amount_over_usd\", \"amount_paid_usd\"]].head()"
   ]
  },
  {
   "cell_type": "code",
   "execution_count": 82,
   "metadata": {},
   "outputs": [
    {
     "data": {
      "text/html": [
       "<div>\n",
       "<style scoped>\n",
       "    .dataframe tbody tr th:only-of-type {\n",
       "        vertical-align: middle;\n",
       "    }\n",
       "\n",
       "    .dataframe tbody tr th {\n",
       "        vertical-align: top;\n",
       "    }\n",
       "\n",
       "    .dataframe thead th {\n",
       "        text-align: right;\n",
       "    }\n",
       "</style>\n",
       "<table border=\"1\" class=\"dataframe\">\n",
       "  <thead>\n",
       "    <tr style=\"text-align: right;\">\n",
       "      <th></th>\n",
       "      <th>currency</th>\n",
       "      <th>item_price</th>\n",
       "      <th>amount_over_fmt</th>\n",
       "      <th>amount_paid</th>\n",
       "      <th>amount_paid_usd</th>\n",
       "      <th>item_price_usd</th>\n",
       "      <th>amount_over_usd</th>\n",
       "      <th>recomputed_paid</th>\n",
       "      <th>paid_diff</th>\n",
       "    </tr>\n",
       "  </thead>\n",
       "  <tbody>\n",
       "    <tr>\n",
       "      <th>556053</th>\n",
       "      <td>EUR</td>\n",
       "      <td>7.77</td>\n",
       "      <td>0.0</td>\n",
       "      <td>8.0</td>\n",
       "      <td>9.34</td>\n",
       "      <td>9.071475</td>\n",
       "      <td>0.0</td>\n",
       "      <td>9.071475</td>\n",
       "      <td>0.268525</td>\n",
       "    </tr>\n",
       "    <tr>\n",
       "      <th>753123</th>\n",
       "      <td>EUR</td>\n",
       "      <td>18.00</td>\n",
       "      <td>0.0</td>\n",
       "      <td>19.0</td>\n",
       "      <td>22.10</td>\n",
       "      <td>20.936842</td>\n",
       "      <td>0.0</td>\n",
       "      <td>20.936842</td>\n",
       "      <td>1.163158</td>\n",
       "    </tr>\n",
       "    <tr>\n",
       "      <th>30474</th>\n",
       "      <td>GBP</td>\n",
       "      <td>0.00</td>\n",
       "      <td>0.0</td>\n",
       "      <td>1.0</td>\n",
       "      <td>1.29</td>\n",
       "      <td>0.000000</td>\n",
       "      <td>0.0</td>\n",
       "      <td>0.000000</td>\n",
       "      <td>1.290000</td>\n",
       "    </tr>\n",
       "    <tr>\n",
       "      <th>337449</th>\n",
       "      <td>GBP</td>\n",
       "      <td>7.00</td>\n",
       "      <td>0.0</td>\n",
       "      <td>8.0</td>\n",
       "      <td>10.36</td>\n",
       "      <td>9.065000</td>\n",
       "      <td>0.0</td>\n",
       "      <td>9.065000</td>\n",
       "      <td>1.295000</td>\n",
       "    </tr>\n",
       "    <tr>\n",
       "      <th>728171</th>\n",
       "      <td>EUR</td>\n",
       "      <td>0.00</td>\n",
       "      <td>0.0</td>\n",
       "      <td>0.5</td>\n",
       "      <td>0.58</td>\n",
       "      <td>0.000000</td>\n",
       "      <td>0.0</td>\n",
       "      <td>0.000000</td>\n",
       "      <td>0.580000</td>\n",
       "    </tr>\n",
       "  </tbody>\n",
       "</table>\n",
       "</div>"
      ],
      "text/plain": [
       "       currency  item_price  amount_over_fmt  amount_paid  amount_paid_usd  \\\n",
       "556053      EUR        7.77              0.0          8.0             9.34   \n",
       "753123      EUR       18.00              0.0         19.0            22.10   \n",
       "30474       GBP        0.00              0.0          1.0             1.29   \n",
       "337449      GBP        7.00              0.0          8.0            10.36   \n",
       "728171      EUR        0.00              0.0          0.5             0.58   \n",
       "\n",
       "        item_price_usd  amount_over_usd  recomputed_paid  paid_diff  \n",
       "556053        9.071475              0.0         9.071475   0.268525  \n",
       "753123       20.936842              0.0        20.936842   1.163158  \n",
       "30474         0.000000              0.0         0.000000   1.290000  \n",
       "337449        9.065000              0.0         9.065000   1.295000  \n",
       "728171        0.000000              0.0         0.000000   0.580000  "
      ]
     },
     "execution_count": 82,
     "metadata": {},
     "output_type": "execute_result"
    }
   ],
   "source": [
    "# Compare full rows to see examples of what’s wrong\n",
    "mismatch_df[[\"currency\", \"item_price\", \"amount_over_fmt\", \"amount_paid\", \"amount_paid_usd\", \"item_price_usd\", \"amount_over_usd\", \"recomputed_paid\", \"paid_diff\"]].sample(5)"
   ]
  },
  {
   "cell_type": "code",
   "execution_count": 89,
   "metadata": {},
   "outputs": [
    {
     "name": "stdout",
     "output_type": "stream",
     "text": [
      "Zero values for amount_over_usd: 138056\n",
      "Non-zero values for amount_over_usd: 84\n"
     ]
    }
   ],
   "source": [
    "# assumption: the amount_over_usd is zero for all mismatches\n",
    "\n",
    "zero_count = (mismatch_df[\"amount_over_usd\"] == 0).sum()\n",
    "nonzero_count = (mismatch_df[\"amount_over_usd\"] != 0).sum()\n",
    "\n",
    "print(f\"Zero values for amount_over_usd: {zero_count}\")\n",
    "print(f\"Non-zero values for amount_over_usd: {nonzero_count}\")\n"
   ]
  },
  {
   "cell_type": "code",
   "execution_count": 91,
   "metadata": {},
   "outputs": [
    {
     "data": {
      "text/html": [
       "<div>\n",
       "<style scoped>\n",
       "    .dataframe tbody tr th:only-of-type {\n",
       "        vertical-align: middle;\n",
       "    }\n",
       "\n",
       "    .dataframe tbody tr th {\n",
       "        vertical-align: top;\n",
       "    }\n",
       "\n",
       "    .dataframe thead th {\n",
       "        text-align: right;\n",
       "    }\n",
       "</style>\n",
       "<table border=\"1\" class=\"dataframe\">\n",
       "  <thead>\n",
       "    <tr style=\"text-align: right;\">\n",
       "      <th></th>\n",
       "      <th>amount_paid</th>\n",
       "      <th>amount_paid_usd</th>\n",
       "      <th>item_price</th>\n",
       "      <th>item_price_usd</th>\n",
       "      <th>amount_over_fmt</th>\n",
       "      <th>amount_over_usd</th>\n",
       "      <th>currency</th>\n",
       "      <th>conversion_rate</th>\n",
       "      <th>recomputed_paid</th>\n",
       "      <th>paid_diff</th>\n",
       "    </tr>\n",
       "  </thead>\n",
       "  <tbody>\n",
       "    <tr>\n",
       "      <th>894602</th>\n",
       "      <td>50.0</td>\n",
       "      <td>50.00</td>\n",
       "      <td>0.00</td>\n",
       "      <td>0.00</td>\n",
       "      <td>25.00</td>\n",
       "      <td>25.0000</td>\n",
       "      <td>USD</td>\n",
       "      <td>1.0000</td>\n",
       "      <td>25.0000</td>\n",
       "      <td>25.0000</td>\n",
       "    </tr>\n",
       "    <tr>\n",
       "      <th>526214</th>\n",
       "      <td>25.0</td>\n",
       "      <td>25.00</td>\n",
       "      <td>5.00</td>\n",
       "      <td>5.00</td>\n",
       "      <td>4.00</td>\n",
       "      <td>4.0000</td>\n",
       "      <td>USD</td>\n",
       "      <td>1.0000</td>\n",
       "      <td>9.0000</td>\n",
       "      <td>16.0000</td>\n",
       "    </tr>\n",
       "    <tr>\n",
       "      <th>850451</th>\n",
       "      <td>20.0</td>\n",
       "      <td>20.00</td>\n",
       "      <td>0.00</td>\n",
       "      <td>0.00</td>\n",
       "      <td>5.00</td>\n",
       "      <td>5.0000</td>\n",
       "      <td>USD</td>\n",
       "      <td>1.0000</td>\n",
       "      <td>5.0000</td>\n",
       "      <td>15.0000</td>\n",
       "    </tr>\n",
       "    <tr>\n",
       "      <th>850450</th>\n",
       "      <td>20.0</td>\n",
       "      <td>20.00</td>\n",
       "      <td>0.00</td>\n",
       "      <td>0.00</td>\n",
       "      <td>5.00</td>\n",
       "      <td>5.0000</td>\n",
       "      <td>USD</td>\n",
       "      <td>1.0000</td>\n",
       "      <td>5.0000</td>\n",
       "      <td>15.0000</td>\n",
       "    </tr>\n",
       "    <tr>\n",
       "      <th>605644</th>\n",
       "      <td>25.0</td>\n",
       "      <td>25.00</td>\n",
       "      <td>6.45</td>\n",
       "      <td>6.45</td>\n",
       "      <td>3.71</td>\n",
       "      <td>3.7100</td>\n",
       "      <td>USD</td>\n",
       "      <td>1.0000</td>\n",
       "      <td>10.1600</td>\n",
       "      <td>14.8400</td>\n",
       "    </tr>\n",
       "    <tr>\n",
       "      <th>851832</th>\n",
       "      <td>12.5</td>\n",
       "      <td>14.66</td>\n",
       "      <td>0.00</td>\n",
       "      <td>0.00</td>\n",
       "      <td>1.50</td>\n",
       "      <td>1.7592</td>\n",
       "      <td>EUR</td>\n",
       "      <td>1.1728</td>\n",
       "      <td>1.7592</td>\n",
       "      <td>12.9008</td>\n",
       "    </tr>\n",
       "    <tr>\n",
       "      <th>658799</th>\n",
       "      <td>20.0</td>\n",
       "      <td>20.00</td>\n",
       "      <td>4.00</td>\n",
       "      <td>4.00</td>\n",
       "      <td>4.00</td>\n",
       "      <td>4.0000</td>\n",
       "      <td>USD</td>\n",
       "      <td>1.0000</td>\n",
       "      <td>8.0000</td>\n",
       "      <td>12.0000</td>\n",
       "    </tr>\n",
       "    <tr>\n",
       "      <th>658794</th>\n",
       "      <td>20.0</td>\n",
       "      <td>20.00</td>\n",
       "      <td>4.00</td>\n",
       "      <td>4.00</td>\n",
       "      <td>4.00</td>\n",
       "      <td>4.0000</td>\n",
       "      <td>USD</td>\n",
       "      <td>1.0000</td>\n",
       "      <td>8.0000</td>\n",
       "      <td>12.0000</td>\n",
       "    </tr>\n",
       "    <tr>\n",
       "      <th>255522</th>\n",
       "      <td>25.0</td>\n",
       "      <td>25.00</td>\n",
       "      <td>0.00</td>\n",
       "      <td>0.00</td>\n",
       "      <td>15.00</td>\n",
       "      <td>15.0000</td>\n",
       "      <td>USD</td>\n",
       "      <td>1.0000</td>\n",
       "      <td>15.0000</td>\n",
       "      <td>10.0000</td>\n",
       "    </tr>\n",
       "    <tr>\n",
       "      <th>443350</th>\n",
       "      <td>20.0</td>\n",
       "      <td>20.00</td>\n",
       "      <td>0.00</td>\n",
       "      <td>0.00</td>\n",
       "      <td>10.00</td>\n",
       "      <td>10.0000</td>\n",
       "      <td>USD</td>\n",
       "      <td>1.0000</td>\n",
       "      <td>10.0000</td>\n",
       "      <td>10.0000</td>\n",
       "    </tr>\n",
       "  </tbody>\n",
       "</table>\n",
       "</div>"
      ],
      "text/plain": [
       "        amount_paid  amount_paid_usd  item_price  item_price_usd  \\\n",
       "894602         50.0            50.00        0.00            0.00   \n",
       "526214         25.0            25.00        5.00            5.00   \n",
       "850451         20.0            20.00        0.00            0.00   \n",
       "850450         20.0            20.00        0.00            0.00   \n",
       "605644         25.0            25.00        6.45            6.45   \n",
       "851832         12.5            14.66        0.00            0.00   \n",
       "658799         20.0            20.00        4.00            4.00   \n",
       "658794         20.0            20.00        4.00            4.00   \n",
       "255522         25.0            25.00        0.00            0.00   \n",
       "443350         20.0            20.00        0.00            0.00   \n",
       "\n",
       "        amount_over_fmt  amount_over_usd currency  conversion_rate  \\\n",
       "894602            25.00          25.0000      USD           1.0000   \n",
       "526214             4.00           4.0000      USD           1.0000   \n",
       "850451             5.00           5.0000      USD           1.0000   \n",
       "850450             5.00           5.0000      USD           1.0000   \n",
       "605644             3.71           3.7100      USD           1.0000   \n",
       "851832             1.50           1.7592      EUR           1.1728   \n",
       "658799             4.00           4.0000      USD           1.0000   \n",
       "658794             4.00           4.0000      USD           1.0000   \n",
       "255522            15.00          15.0000      USD           1.0000   \n",
       "443350            10.00          10.0000      USD           1.0000   \n",
       "\n",
       "        recomputed_paid  paid_diff  \n",
       "894602          25.0000    25.0000  \n",
       "526214           9.0000    16.0000  \n",
       "850451           5.0000    15.0000  \n",
       "850450           5.0000    15.0000  \n",
       "605644          10.1600    14.8400  \n",
       "851832           1.7592    12.9008  \n",
       "658799           8.0000    12.0000  \n",
       "658794           8.0000    12.0000  \n",
       "255522          15.0000    10.0000  \n",
       "443350          10.0000    10.0000  "
      ]
     },
     "execution_count": 91,
     "metadata": {},
     "output_type": "execute_result"
    }
   ],
   "source": [
    "# understand the data inconsistency for the worst cases\n",
    "nonzero_mismatches = mismatch_df[mismatch_df[\"amount_over_usd\"] != 0]\n",
    "\n",
    "nonzero_mismatches.sort_values(\"paid_diff\", ascending=False).head(10)[columns_money]\n"
   ]
  },
  {
   "cell_type": "code",
   "execution_count": 94,
   "metadata": {},
   "outputs": [
    {
     "name": "stdout",
     "output_type": "stream",
     "text": [
      "Rows with item_price == 0: 73757\n"
     ]
    },
    {
     "data": {
      "text/html": [
       "<div>\n",
       "<style scoped>\n",
       "    .dataframe tbody tr th:only-of-type {\n",
       "        vertical-align: middle;\n",
       "    }\n",
       "\n",
       "    .dataframe tbody tr th {\n",
       "        vertical-align: top;\n",
       "    }\n",
       "\n",
       "    .dataframe thead th {\n",
       "        text-align: right;\n",
       "    }\n",
       "</style>\n",
       "<table border=\"1\" class=\"dataframe\">\n",
       "  <thead>\n",
       "    <tr style=\"text-align: right;\">\n",
       "      <th></th>\n",
       "      <th>amount_paid</th>\n",
       "      <th>amount_paid_usd</th>\n",
       "      <th>item_price</th>\n",
       "      <th>item_price_usd</th>\n",
       "      <th>amount_over_fmt</th>\n",
       "      <th>amount_over_usd</th>\n",
       "      <th>currency</th>\n",
       "      <th>conversion_rate</th>\n",
       "      <th>recomputed_paid</th>\n",
       "      <th>paid_diff</th>\n",
       "    </tr>\n",
       "  </thead>\n",
       "  <tbody>\n",
       "    <tr>\n",
       "      <th>6</th>\n",
       "      <td>1.00</td>\n",
       "      <td>1.00</td>\n",
       "      <td>0.0</td>\n",
       "      <td>0.0</td>\n",
       "      <td>0.0</td>\n",
       "      <td>0.0</td>\n",
       "      <td>USD</td>\n",
       "      <td>1.000000</td>\n",
       "      <td>0.0</td>\n",
       "      <td>1.00</td>\n",
       "    </tr>\n",
       "    <tr>\n",
       "      <th>49</th>\n",
       "      <td>1.00</td>\n",
       "      <td>1.00</td>\n",
       "      <td>0.0</td>\n",
       "      <td>0.0</td>\n",
       "      <td>0.0</td>\n",
       "      <td>0.0</td>\n",
       "      <td>USD</td>\n",
       "      <td>1.000000</td>\n",
       "      <td>0.0</td>\n",
       "      <td>1.00</td>\n",
       "    </tr>\n",
       "    <tr>\n",
       "      <th>76</th>\n",
       "      <td>1.00</td>\n",
       "      <td>1.00</td>\n",
       "      <td>0.0</td>\n",
       "      <td>0.0</td>\n",
       "      <td>0.0</td>\n",
       "      <td>0.0</td>\n",
       "      <td>USD</td>\n",
       "      <td>1.000000</td>\n",
       "      <td>0.0</td>\n",
       "      <td>1.00</td>\n",
       "    </tr>\n",
       "    <tr>\n",
       "      <th>84</th>\n",
       "      <td>0.75</td>\n",
       "      <td>0.97</td>\n",
       "      <td>0.0</td>\n",
       "      <td>0.0</td>\n",
       "      <td>0.0</td>\n",
       "      <td>0.0</td>\n",
       "      <td>GBP</td>\n",
       "      <td>1.293333</td>\n",
       "      <td>0.0</td>\n",
       "      <td>0.97</td>\n",
       "    </tr>\n",
       "    <tr>\n",
       "      <th>104</th>\n",
       "      <td>1.00</td>\n",
       "      <td>0.73</td>\n",
       "      <td>0.0</td>\n",
       "      <td>0.0</td>\n",
       "      <td>0.0</td>\n",
       "      <td>0.0</td>\n",
       "      <td>AUD</td>\n",
       "      <td>0.730000</td>\n",
       "      <td>0.0</td>\n",
       "      <td>0.73</td>\n",
       "    </tr>\n",
       "  </tbody>\n",
       "</table>\n",
       "</div>"
      ],
      "text/plain": [
       "     amount_paid  amount_paid_usd  item_price  item_price_usd  \\\n",
       "6           1.00             1.00         0.0             0.0   \n",
       "49          1.00             1.00         0.0             0.0   \n",
       "76          1.00             1.00         0.0             0.0   \n",
       "84          0.75             0.97         0.0             0.0   \n",
       "104         1.00             0.73         0.0             0.0   \n",
       "\n",
       "     amount_over_fmt  amount_over_usd currency  conversion_rate  \\\n",
       "6                0.0              0.0      USD         1.000000   \n",
       "49               0.0              0.0      USD         1.000000   \n",
       "76               0.0              0.0      USD         1.000000   \n",
       "84               0.0              0.0      GBP         1.293333   \n",
       "104              0.0              0.0      AUD         0.730000   \n",
       "\n",
       "     recomputed_paid  paid_diff  \n",
       "6                0.0       1.00  \n",
       "49               0.0       1.00  \n",
       "76               0.0       1.00  \n",
       "84               0.0       0.97  \n",
       "104              0.0       0.73  "
      ]
     },
     "execution_count": 94,
     "metadata": {},
     "output_type": "execute_result"
    }
   ],
   "source": [
    "# Assumption: errors come from cases with item_price==0\n",
    "free_items = mismatch_df[mismatch_df[\"item_price\"] == 0]\n",
    "print(\"Rows with item_price == 0:\", len(free_items))\n",
    "free_items[columns_money].head()"
   ]
  },
  {
   "cell_type": "markdown",
   "metadata": {},
   "source": [
    "#### Decompose mistatch cases where amount_paid > item_price + amount_over_fmt\n",
    "- Case 1: [amount_over_usd == 0]\n",
    "  - This means that customer did not add extra donation when buying an item\n",
    "- Case 2: [item_price_usd == 0] & [amount_over_usd == 0]\n",
    "  - The item was for free and customer did not pay extra\n",
    "- Case 3: [item_price_usd == 0] & [amount_over_usd == 0]\n",
    "  - .\n",
    "- Case 4: [item_price_usd == 0] & [amount_over_usd == 0]\n",
    "  - ."
   ]
  },
  {
   "cell_type": "code",
   "execution_count": null,
   "metadata": {},
   "outputs": [],
   "source": []
  },
  {
   "cell_type": "code",
   "execution_count": null,
   "metadata": {},
   "outputs": [],
   "source": []
  },
  {
   "cell_type": "code",
   "execution_count": null,
   "metadata": {},
   "outputs": [],
   "source": []
  },
  {
   "cell_type": "code",
   "execution_count": null,
   "metadata": {},
   "outputs": [],
   "source": []
  },
  {
   "cell_type": "markdown",
   "metadata": {},
   "source": [
    "## Treating absence of data"
   ]
  },
  {
   "cell_type": "code",
   "execution_count": 76,
   "metadata": {},
   "outputs": [
    {
     "name": "stdout",
     "output_type": "stream",
     "text": [
      "                   is_na   not_na  na_percent na_percent_pretty\n",
      "releases          988416    11584     98.8416            98.84%\n",
      "album_title       643539   356461     64.3539            64.35%\n",
      "art_id            235480   764520     23.5480            23.55%\n",
      "slug_type          11584   988416      1.1584             1.16%\n",
      "item_description      23   999977      0.0023             0.00%\n",
      "artist_name           10   999990      0.0010             0.00%\n",
      "item_type              0  1000000      0.0000             0.00%\n",
      "country_code           0  1000000      0.0000             0.00%\n",
      "country                0  1000000      0.0000             0.00%\n",
      "amount_paid_fmt        0  1000000      0.0000             0.00%\n",
      "item_price             0  1000000      0.0000             0.00%\n",
      "url                    0  1000000      0.0000             0.00%\n",
      "amount_paid            0  1000000      0.0000             0.00%\n",
      "currency               0  1000000      0.0000             0.00%\n",
      "amount_paid_usd        0  1000000      0.0000             0.00%\n",
      "amount_over_fmt        0  1000000      0.0000             0.00%\n",
      "hour                   0  1000000      0.0000             0.00%\n",
      "dayofweek              0  1000000      0.0000             0.00%\n",
      "month                  0  1000000      0.0000             0.00%\n",
      "year                   0  1000000      0.0000             0.00%\n",
      "weekday                0  1000000      0.0000             0.00%\n",
      "weekend                0  1000000      0.0000             0.00%\n",
      "hour_sin               0  1000000      0.0000             0.00%\n",
      "hour_cos               0  1000000      0.0000             0.00%\n",
      "weekday_sin            0  1000000      0.0000             0.00%\n",
      "weekday_cos            0  1000000      0.0000             0.00%\n",
      "month_sin              0  1000000      0.0000             0.00%\n",
      "month_cos              0  1000000      0.0000             0.00%\n",
      "conversion_rate        0  1000000      0.0000             0.00%\n",
      "amount_over_usd        0  1000000      0.0000             0.00%\n",
      "item_price_usd         0  1000000      0.0000             0.00%\n",
      "paid_usd_diff          0  1000000      0.0000             0.00%\n",
      "recomputed_paid        0  1000000      0.0000             0.00%\n",
      "paid_diff              0  1000000      0.0000             0.00%\n"
     ]
    }
   ],
   "source": [
    "df_nulls = eda.count_nulls(df)\n",
    "print(df_nulls)"
   ]
  },
  {
   "cell_type": "code",
   "execution_count": 77,
   "metadata": {},
   "outputs": [],
   "source": [
    "# TODO\n"
   ]
  },
  {
   "cell_type": "markdown",
   "metadata": {},
   "source": [
    "## Backup dataframe"
   ]
  },
  {
   "cell_type": "code",
   "execution_count": 78,
   "metadata": {},
   "outputs": [
    {
     "name": "stderr",
     "output_type": "stream",
     "text": [
      "INFO:root:Backup file is created: /Users/bubblegum_doubledrops/Library/Mobile Documents/com~apple~CloudDocs/0prio - Important heavy backups/IronHack/big_projects/midproject-bandcamp-insights/data/bandcamp-sales-v1-cleaned.pkl\n"
     ]
    }
   ],
   "source": [
    "df_filename = 'bandcamp-sales-v1-cleaned'\n",
    "fl.save_df_pickle(df, df_filename)"
   ]
  }
 ],
 "metadata": {
  "kernelspec": {
   "display_name": "Python (venv)",
   "language": "python",
   "name": "venv"
  },
  "language_info": {
   "codemirror_mode": {
    "name": "ipython",
    "version": 3
   },
   "file_extension": ".py",
   "mimetype": "text/x-python",
   "name": "python",
   "nbconvert_exporter": "python",
   "pygments_lexer": "ipython3",
   "version": "3.13.2"
  }
 },
 "nbformat": 4,
 "nbformat_minor": 2
}
