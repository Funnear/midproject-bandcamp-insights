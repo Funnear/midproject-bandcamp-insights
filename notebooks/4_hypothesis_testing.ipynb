{
 "cells": [
  {
   "cell_type": "code",
   "execution_count": 15,
   "metadata": {},
   "outputs": [],
   "source": [
    "import pandas as pd\n",
    "import numpy as np\n",
    "import scipy.stats as st \n",
    "import matplotlib.pyplot as plt \n",
    "\n",
    "# Project libraries\n",
    "# set path to local modules and submodules\n",
    "import sys, os\n",
    "sys.path.append(os.path.abspath(\"src\")) # add src folder to path\n",
    "# import local modules and submodules\n",
    "import data_ravers_utils.file_handler as fl\n",
    "import data_ravers_utils.eda_utils as eda\n",
    "import data_ravers_utils.visualization as plots"
   ]
  },
  {
   "cell_type": "markdown",
   "metadata": {},
   "source": [
    "# Data"
   ]
  },
  {
   "cell_type": "code",
   "execution_count": 3,
   "metadata": {},
   "outputs": [
    {
     "data": {
      "text/html": [
       "<div>\n",
       "<style scoped>\n",
       "    .dataframe tbody tr th:only-of-type {\n",
       "        vertical-align: middle;\n",
       "    }\n",
       "\n",
       "    .dataframe tbody tr th {\n",
       "        vertical-align: top;\n",
       "    }\n",
       "\n",
       "    .dataframe thead th {\n",
       "        text-align: right;\n",
       "    }\n",
       "</style>\n",
       "<table border=\"1\" class=\"dataframe\">\n",
       "  <thead>\n",
       "    <tr style=\"text-align: right;\">\n",
       "      <th></th>\n",
       "      <th>country_code</th>\n",
       "      <th>country</th>\n",
       "      <th>artist_name</th>\n",
       "      <th>amount_paid_usd</th>\n",
       "      <th>hour</th>\n",
       "      <th>dayofweek</th>\n",
       "      <th>month</th>\n",
       "      <th>year</th>\n",
       "      <th>weekday</th>\n",
       "      <th>weekend</th>\n",
       "      <th>...</th>\n",
       "      <th>media_type</th>\n",
       "      <th>media_type_details</th>\n",
       "      <th>discography_size</th>\n",
       "      <th>merch_type</th>\n",
       "      <th>is_bundle</th>\n",
       "      <th>amount_over_usd</th>\n",
       "      <th>item_price_usd</th>\n",
       "      <th>overpayment_usd</th>\n",
       "      <th>discount_usd</th>\n",
       "      <th>is_donation</th>\n",
       "    </tr>\n",
       "  </thead>\n",
       "  <tbody>\n",
       "    <tr>\n",
       "      <th>0</th>\n",
       "      <td>gb</td>\n",
       "      <td>United Kingdom</td>\n",
       "      <td>Girl Band</td>\n",
       "      <td>9.99</td>\n",
       "      <td>22</td>\n",
       "      <td>2</td>\n",
       "      <td>9</td>\n",
       "      <td>2020</td>\n",
       "      <td>2</td>\n",
       "      <td>False</td>\n",
       "      <td>...</td>\n",
       "      <td>digital</td>\n",
       "      <td>album</td>\n",
       "      <td>0</td>\n",
       "      <td>other</td>\n",
       "      <td>0</td>\n",
       "      <td>0.0</td>\n",
       "      <td>9.99</td>\n",
       "      <td>2.288818e-07</td>\n",
       "      <td>0.000000e+00</td>\n",
       "      <td>1</td>\n",
       "    </tr>\n",
       "    <tr>\n",
       "      <th>1</th>\n",
       "      <td>fi</td>\n",
       "      <td>Finland</td>\n",
       "      <td>Jirah</td>\n",
       "      <td>1.30</td>\n",
       "      <td>22</td>\n",
       "      <td>2</td>\n",
       "      <td>9</td>\n",
       "      <td>2020</td>\n",
       "      <td>2</td>\n",
       "      <td>False</td>\n",
       "      <td>...</td>\n",
       "      <td>digital</td>\n",
       "      <td>album</td>\n",
       "      <td>0</td>\n",
       "      <td>other</td>\n",
       "      <td>0</td>\n",
       "      <td>0.0</td>\n",
       "      <td>1.30</td>\n",
       "      <td>0.000000e+00</td>\n",
       "      <td>0.000000e+00</td>\n",
       "      <td>0</td>\n",
       "    </tr>\n",
       "    <tr>\n",
       "      <th>2</th>\n",
       "      <td>fi</td>\n",
       "      <td>Finland</td>\n",
       "      <td>D-Ther</td>\n",
       "      <td>3.90</td>\n",
       "      <td>22</td>\n",
       "      <td>2</td>\n",
       "      <td>9</td>\n",
       "      <td>2020</td>\n",
       "      <td>2</td>\n",
       "      <td>False</td>\n",
       "      <td>...</td>\n",
       "      <td>digital</td>\n",
       "      <td>album</td>\n",
       "      <td>0</td>\n",
       "      <td>other</td>\n",
       "      <td>0</td>\n",
       "      <td>0.0</td>\n",
       "      <td>3.90</td>\n",
       "      <td>0.000000e+00</td>\n",
       "      <td>4.440892e-16</td>\n",
       "      <td>0</td>\n",
       "    </tr>\n",
       "    <tr>\n",
       "      <th>3</th>\n",
       "      <td>gb</td>\n",
       "      <td>United Kingdom</td>\n",
       "      <td>WHITE NOISE TV</td>\n",
       "      <td>12.39</td>\n",
       "      <td>22</td>\n",
       "      <td>2</td>\n",
       "      <td>9</td>\n",
       "      <td>2020</td>\n",
       "      <td>2</td>\n",
       "      <td>False</td>\n",
       "      <td>...</td>\n",
       "      <td>CD</td>\n",
       "      <td>no details</td>\n",
       "      <td>0</td>\n",
       "      <td>other</td>\n",
       "      <td>0</td>\n",
       "      <td>0.0</td>\n",
       "      <td>12.39</td>\n",
       "      <td>0.000000e+00</td>\n",
       "      <td>1.776357e-15</td>\n",
       "      <td>0</td>\n",
       "    </tr>\n",
       "    <tr>\n",
       "      <th>4</th>\n",
       "      <td>us</td>\n",
       "      <td>United States</td>\n",
       "      <td>LINGUA IGNOTA</td>\n",
       "      <td>1.00</td>\n",
       "      <td>22</td>\n",
       "      <td>2</td>\n",
       "      <td>9</td>\n",
       "      <td>2020</td>\n",
       "      <td>2</td>\n",
       "      <td>False</td>\n",
       "      <td>...</td>\n",
       "      <td>digital</td>\n",
       "      <td>single</td>\n",
       "      <td>0</td>\n",
       "      <td>other</td>\n",
       "      <td>0</td>\n",
       "      <td>0.0</td>\n",
       "      <td>1.00</td>\n",
       "      <td>0.000000e+00</td>\n",
       "      <td>0.000000e+00</td>\n",
       "      <td>0</td>\n",
       "    </tr>\n",
       "  </tbody>\n",
       "</table>\n",
       "<p>5 rows × 26 columns</p>\n",
       "</div>"
      ],
      "text/plain": [
       "  country_code         country     artist_name  amount_paid_usd  hour  \\\n",
       "0           gb  United Kingdom       Girl Band             9.99    22   \n",
       "1           fi         Finland           Jirah             1.30    22   \n",
       "2           fi         Finland          D-Ther             3.90    22   \n",
       "3           gb  United Kingdom  WHITE NOISE TV            12.39    22   \n",
       "4           us   United States   LINGUA IGNOTA             1.00    22   \n",
       "\n",
       "   dayofweek  month  year  weekday  weekend  ...  media_type  \\\n",
       "0          2      9  2020        2    False  ...     digital   \n",
       "1          2      9  2020        2    False  ...     digital   \n",
       "2          2      9  2020        2    False  ...     digital   \n",
       "3          2      9  2020        2    False  ...          CD   \n",
       "4          2      9  2020        2    False  ...     digital   \n",
       "\n",
       "   media_type_details  discography_size  merch_type  is_bundle  \\\n",
       "0               album                 0       other          0   \n",
       "1               album                 0       other          0   \n",
       "2               album                 0       other          0   \n",
       "3          no details                 0       other          0   \n",
       "4              single                 0       other          0   \n",
       "\n",
       "   amount_over_usd item_price_usd overpayment_usd  discount_usd is_donation  \n",
       "0              0.0           9.99    2.288818e-07  0.000000e+00           1  \n",
       "1              0.0           1.30    0.000000e+00  0.000000e+00           0  \n",
       "2              0.0           3.90    0.000000e+00  4.440892e-16           0  \n",
       "3              0.0          12.39    0.000000e+00  1.776357e-15           0  \n",
       "4              0.0           1.00    0.000000e+00  0.000000e+00           0  \n",
       "\n",
       "[5 rows x 26 columns]"
      ]
     },
     "execution_count": 3,
     "metadata": {},
     "output_type": "execute_result"
    }
   ],
   "source": [
    "df_filename = 'bandcamp-sales-v1-cleaned'\n",
    "data = fl.read_df_pickle(df_filename)\n",
    "df = data.copy()\n",
    "df.head(5)"
   ]
  },
  {
   "cell_type": "code",
   "execution_count": 6,
   "metadata": {},
   "outputs": [],
   "source": [
    "target_variable = \"amount_paid_usd\"\n",
    "sample = df[target_variable]\n"
   ]
  },
  {
   "cell_type": "code",
   "execution_count": 7,
   "metadata": {},
   "outputs": [
    {
     "data": {
      "text/plain": [
       "93956    2.00\n",
       "93957    9.48\n",
       "Name: amount_paid_usd, dtype: float64"
      ]
     },
     "execution_count": 7,
     "metadata": {},
     "output_type": "execute_result"
    }
   ],
   "source": [
    "friday_payments = df[df[\"weekday\"] ==5][target_variable]\n",
    "friday_payments.head(2)"
   ]
  },
  {
   "cell_type": "code",
   "execution_count": 9,
   "metadata": {},
   "outputs": [],
   "source": [
    "mu = float(friday_payments.mean())"
   ]
  },
  {
   "cell_type": "markdown",
   "metadata": {},
   "source": [
    "# Hypothesis"
   ]
  },
  {
   "cell_type": "code",
   "execution_count": null,
   "metadata": {},
   "outputs": [],
   "source": [
    "null_hypothesis = \"Sales on Bandcamp are not different on Fridays than on any other days of the week.\""
   ]
  },
  {
   "cell_type": "code",
   "execution_count": 5,
   "metadata": {},
   "outputs": [],
   "source": [
    "alternative_hypothesis = \"Sales on Bandcamp are higher on Fridays.\""
   ]
  },
  {
   "cell_type": "markdown",
   "metadata": {},
   "source": [
    "# One tail T-test"
   ]
  },
  {
   "cell_type": "code",
   "execution_count": 10,
   "metadata": {},
   "outputs": [
    {
     "name": "stdout",
     "output_type": "stream",
     "text": [
      "Test Statistic (t): 90.95\n",
      "P-Value: 0.0000\n",
      "\n"
     ]
    }
   ],
   "source": [
    "# One-Tailed Test (Right-Tailed)\n",
    "t_stat, p_value = st.ttest_1samp(sample, mu, alternative='greater')\n",
    "print(f\"Test Statistic (t): {t_stat:.2f}\")\n",
    "print(f\"P-Value: {p_value:.4f}\")\n",
    "print()\n",
    "\n"
   ]
  },
  {
   "cell_type": "code",
   "execution_count": 12,
   "metadata": {},
   "outputs": [
    {
     "name": "stdout",
     "output_type": "stream",
     "text": [
      "Reject the Null Hypothesis: Sales on Bandcamp are higher on Fridays.\n"
     ]
    }
   ],
   "source": [
    "alpha = 0.5\n",
    "\n",
    "# Decision-Making\n",
    "if p_value > alpha:\n",
    "    print(f\"Fail to Reject the Null Hypothesis: {null_hypothesis}\")\n",
    "else:\n",
    "    print(f\"Reject the Null Hypothesis: {alternative_hypothesis}\")"
   ]
  },
  {
   "cell_type": "code",
   "execution_count": 17,
   "metadata": {},
   "outputs": [
    {
     "data": {
      "image/png": "[encoded data removed]",
      "text/plain": [
       "<Figure size 640x480 with 1 Axes>"
      ]
     },
     "metadata": {},
     "output_type": "display_data"
    }
   ],
   "source": [
    "n = len(sample)\n",
    "x = np.linspace(-5, 5, 1000)  # Changed from -4 to -5, and 4 to 5\n",
    "y = st.t.pdf(x, df=n-1)\n",
    "\n",
    "plt.plot(x, y, label=\"t-Distribution\")\n",
    "plt.fill_between(x, 0, y, where=(x > st.t.ppf(1 - alpha, df=n - 1)), color='red', alpha=0.3, label='Rejection Region (One-Tailed)')\n",
    "plt.axvline(t_stat, color='blue', linestyle='--', label=f'Test Statistic (t = {t_stat:.2f})')\n",
    "plt.title(\"One-Tailed Test Visualization\")\n",
    "plt.xlim(-5, 5)  # Optional: explicitly set x-axis limits\n",
    "plt.xlabel(\"t-value\")\n",
    "plt.ylabel(\"Probability Density\")\n",
    "plt.legend()\n",
    "plt.show()"
   ]
  }
 ],
 "metadata": {
  "kernelspec": {
   "display_name": "Python 64 (venv)",
   "language": "python",
   "name": "venv"
  },
  "language_info": {
   "codemirror_mode": {
    "name": "ipython",
    "version": 3
   },
   "file_extension": ".py",
   "mimetype": "text/x-python",
   "name": "python",
   "nbconvert_exporter": "python",
   "pygments_lexer": "ipython3",
   "version": "3.13.2"
  }
 },
 "nbformat": 4,
 "nbformat_minor": 2
}
